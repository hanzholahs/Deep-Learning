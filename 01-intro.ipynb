{
 "cells": [
  {
   "cell_type": "code",
   "execution_count": 1,
   "metadata": {},
   "outputs": [],
   "source": [
    "import time\n",
    "import matplotlib.pyplot as plt\n",
    "import matplotlib_inline.backend_inline\n",
    "from matplotlib.colors import to_rgba\n",
    "from tqdm.notebook import tqdm \n",
    "\n",
    "%matplotlib inline\n",
    "matplotlib_inline.backend_inline.set_matplotlib_formats(\"svg\", \"pdf\")"
   ]
  },
  {
   "cell_type": "code",
   "execution_count": 2,
   "metadata": {},
   "outputs": [],
   "source": [
    "import numpy as np\n",
    "import torch\n",
    "import torch.utils.data as data\n",
    "from torch import nn"
   ]
  },
  {
   "cell_type": "code",
   "execution_count": 3,
   "metadata": {},
   "outputs": [
    {
     "name": "stdout",
     "output_type": "stream",
     "text": [
      "Using torch 2.1.2+cu118\n"
     ]
    }
   ],
   "source": [
    "print(\"Using torch\", torch.__version__)"
   ]
  },
  {
   "cell_type": "code",
   "execution_count": 4,
   "metadata": {},
   "outputs": [
    {
     "data": {
      "text/plain": [
       "<torch._C.Generator at 0x1e7fc8407f0>"
      ]
     },
     "execution_count": 4,
     "metadata": {},
     "output_type": "execute_result"
    }
   ],
   "source": [
    "torch.manual_seed(42)"
   ]
  },
  {
   "cell_type": "markdown",
   "metadata": {},
   "source": [
    "## Pytorch Tensors"
   ]
  },
  {
   "cell_type": "markdown",
   "metadata": {},
   "source": [
    "### Initialization"
   ]
  },
  {
   "cell_type": "code",
   "execution_count": 5,
   "metadata": {},
   "outputs": [
    {
     "data": {
      "text/plain": [
       "tensor([2., 3.])"
      ]
     },
     "execution_count": 5,
     "metadata": {},
     "output_type": "execute_result"
    }
   ],
   "source": [
    "torch.Tensor([2, 3])"
   ]
  },
  {
   "cell_type": "code",
   "execution_count": 6,
   "metadata": {},
   "outputs": [
    {
     "data": {
      "text/plain": [
       "tensor([[-1.5304e-28,  1.2303e-42,  0.0000e+00],\n",
       "        [ 0.0000e+00,  0.0000e+00,  0.0000e+00]])"
      ]
     },
     "execution_count": 6,
     "metadata": {},
     "output_type": "execute_result"
    }
   ],
   "source": [
    "torch.Tensor(2, 3)"
   ]
  },
  {
   "cell_type": "code",
   "execution_count": 7,
   "metadata": {},
   "outputs": [
    {
     "data": {
      "text/plain": [
       "tensor([2, 3])"
      ]
     },
     "execution_count": 7,
     "metadata": {},
     "output_type": "execute_result"
    }
   ],
   "source": [
    "torch.tensor([2, 3])"
   ]
  },
  {
   "cell_type": "code",
   "execution_count": 8,
   "metadata": {},
   "outputs": [
    {
     "data": {
      "text/plain": [
       "tensor([[0., 0., 0.],\n",
       "        [0., 0., 0.]])"
      ]
     },
     "execution_count": 8,
     "metadata": {},
     "output_type": "execute_result"
    }
   ],
   "source": [
    "torch.zeros((2, 3))"
   ]
  },
  {
   "cell_type": "code",
   "execution_count": 9,
   "metadata": {},
   "outputs": [
    {
     "data": {
      "text/plain": [
       "tensor([[1., 1., 1.],\n",
       "        [1., 1., 1.]])"
      ]
     },
     "execution_count": 9,
     "metadata": {},
     "output_type": "execute_result"
    }
   ],
   "source": [
    "torch.ones(2, 3)"
   ]
  },
  {
   "cell_type": "code",
   "execution_count": 10,
   "metadata": {},
   "outputs": [
    {
     "data": {
      "text/plain": [
       "tensor([[0.8823, 0.9150, 0.3829],\n",
       "        [0.9593, 0.3904, 0.6009]])"
      ]
     },
     "execution_count": 10,
     "metadata": {},
     "output_type": "execute_result"
    }
   ],
   "source": [
    "torch.rand(2, 3)"
   ]
  },
  {
   "cell_type": "code",
   "execution_count": 11,
   "metadata": {},
   "outputs": [
    {
     "data": {
      "text/plain": [
       "tensor([[ 1.1561,  0.3965, -2.4661],\n",
       "        [ 0.3623,  0.3765, -0.1808]])"
      ]
     },
     "execution_count": 11,
     "metadata": {},
     "output_type": "execute_result"
    }
   ],
   "source": [
    "torch.randn(2, 3)"
   ]
  },
  {
   "cell_type": "code",
   "execution_count": 12,
   "metadata": {},
   "outputs": [
    {
     "data": {
      "text/plain": [
       "tensor([0, 1, 2, 3, 4, 5, 6, 7, 8, 9])"
      ]
     },
     "execution_count": 12,
     "metadata": {},
     "output_type": "execute_result"
    }
   ],
   "source": [
    "torch.arange(10)"
   ]
  },
  {
   "cell_type": "code",
   "execution_count": 13,
   "metadata": {},
   "outputs": [
    {
     "name": "stdout",
     "output_type": "stream",
     "text": [
      "Shape:\n",
      " torch.Size([3, 3])\n",
      "size:\n",
      " torch.Size([3, 3])\n"
     ]
    }
   ],
   "source": [
    "x = torch.randn(3, 3)\n",
    "print(\"Shape:\\n\", x.shape)\n",
    "print(\"size:\\n\", x.size())"
   ]
  },
  {
   "cell_type": "markdown",
   "metadata": {},
   "source": [
    "### Conversion from and to Numpy"
   ]
  },
  {
   "cell_type": "code",
   "execution_count": 14,
   "metadata": {},
   "outputs": [
    {
     "name": "stdout",
     "output_type": "stream",
     "text": [
      "Numpy array:\n",
      " [[1 2]\n",
      " [7 5]]\n",
      "PyTorch tensor:\n",
      " tensor([[1, 2],\n",
      "        [7, 5]], dtype=torch.int32)\n"
     ]
    }
   ],
   "source": [
    "np_arr = np.array([[1, 2], [7, 5]])\n",
    "tensor = torch.from_numpy(np_arr)\n",
    "\n",
    "print(\"Numpy array:\\n\", np_arr)\n",
    "print(\"PyTorch tensor:\\n\", tensor)"
   ]
  },
  {
   "cell_type": "code",
   "execution_count": 15,
   "metadata": {},
   "outputs": [
    {
     "name": "stdout",
     "output_type": "stream",
     "text": [
      "Numpy array:\n",
      " [[1 2]\n",
      " [7 5]]\n"
     ]
    }
   ],
   "source": [
    "print(\"Numpy array:\\n\", tensor.numpy())"
   ]
  },
  {
   "cell_type": "code",
   "execution_count": 16,
   "metadata": {},
   "outputs": [
    {
     "data": {
      "text/plain": [
       "device(type='cuda', index=0)"
      ]
     },
     "execution_count": 16,
     "metadata": {},
     "output_type": "execute_result"
    }
   ],
   "source": [
    "x = torch.randn(2, 2, device = \"cuda\")\n",
    "x.device"
   ]
  },
  {
   "cell_type": "code",
   "execution_count": 17,
   "metadata": {},
   "outputs": [
    {
     "name": "stdout",
     "output_type": "stream",
     "text": [
      "Numpy array:\n",
      " [[ 0.1940188   2.1613736 ]\n",
      " [-0.17205022  0.8490601 ]]\n"
     ]
    }
   ],
   "source": [
    "print(\"Numpy array:\\n\", x.cpu().numpy())"
   ]
  },
  {
   "cell_type": "markdown",
   "metadata": {},
   "source": [
    "### Operations"
   ]
  },
  {
   "cell_type": "code",
   "execution_count": 18,
   "metadata": {},
   "outputs": [],
   "source": [
    "x1 = torch.rand(2, 3)\n",
    "x2 = torch.rand(2, 3)\n",
    "x3 = torch.rand(3, 2)"
   ]
  },
  {
   "cell_type": "code",
   "execution_count": 19,
   "metadata": {},
   "outputs": [
    {
     "name": "stdout",
     "output_type": "stream",
     "text": [
      "x1 + x2:\n",
      "tensor([[1.3437, 0.6237, 1.4230],\n",
      "        [0.9539, 1.4643, 1.1417]])\n",
      "\n",
      "x1 - x2:\n",
      "tensor([[-0.2344,  0.0609, -0.1543],\n",
      "        [-0.2251, -0.0435,  0.7512]])\n",
      "\n",
      "x1 * x2:\n",
      "tensor([[0.4376, 0.0963, 0.5003],\n",
      "        [0.2148, 0.5356, 0.1848]])\n",
      "\n",
      "x1 / x2:\n",
      "tensor([[0.7030, 1.2164, 0.8044],\n",
      "        [0.6182, 0.9423, 4.8472]])\n"
     ]
    }
   ],
   "source": [
    "print(\"x1 + x2:\")\n",
    "print(x1 + x2)\n",
    "print(\"\\nx1 - x2:\")\n",
    "print(x1 - x2)\n",
    "print(\"\\nx1 * x2:\")\n",
    "print(x1 * x2)\n",
    "print(\"\\nx1 / x2:\")\n",
    "print(x1 / x2)"
   ]
  },
  {
   "cell_type": "code",
   "execution_count": 20,
   "metadata": {},
   "outputs": [
    {
     "name": "stdout",
     "output_type": "stream",
     "text": [
      "tensor([[0.5547, 0.3423, 0.6343],\n",
      "        [0.3644, 0.7104, 0.9464]])\n",
      "tensor([[10.5547, 10.3423, 10.6343],\n",
      "        [10.3644, 10.7104, 10.9464]])\n"
     ]
    }
   ],
   "source": [
    "print(x1)\n",
    "x1.add_(10)\n",
    "print(x1)"
   ]
  },
  {
   "cell_type": "code",
   "execution_count": 21,
   "metadata": {},
   "outputs": [
    {
     "data": {
      "text/plain": [
       "tensor([[ 8.1067, 20.1723],\n",
       "        [ 8.3496, 20.6697]])"
      ]
     },
     "execution_count": 21,
     "metadata": {},
     "output_type": "execute_result"
    }
   ],
   "source": [
    "x1 @ x3"
   ]
  },
  {
   "cell_type": "code",
   "execution_count": 22,
   "metadata": {},
   "outputs": [
    {
     "data": {
      "text/plain": [
       "tensor([[ 8.1067, 20.1723],\n",
       "        [ 8.3496, 20.6697]])"
      ]
     },
     "execution_count": 22,
     "metadata": {},
     "output_type": "execute_result"
    }
   ],
   "source": [
    "x1.matmul(x3)"
   ]
  },
  {
   "cell_type": "code",
   "execution_count": 23,
   "metadata": {},
   "outputs": [
    {
     "data": {
      "text/plain": [
       "tensor([[ 8.1067, 20.1723],\n",
       "        [ 8.3496, 20.6697]])"
      ]
     },
     "execution_count": 23,
     "metadata": {},
     "output_type": "execute_result"
    }
   ],
   "source": [
    "x1.mm(x3)"
   ]
  },
  {
   "cell_type": "markdown",
   "metadata": {},
   "source": [
    "### Modifying Shapes"
   ]
  },
  {
   "cell_type": "code",
   "execution_count": 24,
   "metadata": {},
   "outputs": [
    {
     "data": {
      "text/plain": [
       "tensor([[-1.3323, -0.0499,  0.5263, -0.0085,  0.7291],\n",
       "        [ 0.1331,  0.8640, -1.0157, -0.8887,  0.1498],\n",
       "        [-0.2089, -0.3870,  0.9912,  0.4679, -0.2049]])"
      ]
     },
     "execution_count": 24,
     "metadata": {},
     "output_type": "execute_result"
    }
   ],
   "source": [
    "x = torch.randn(3, 5)\n",
    "x"
   ]
  },
  {
   "cell_type": "code",
   "execution_count": 25,
   "metadata": {},
   "outputs": [
    {
     "data": {
      "text/plain": [
       "torch.Size([3, 5])"
      ]
     },
     "execution_count": 25,
     "metadata": {},
     "output_type": "execute_result"
    }
   ],
   "source": [
    "x.shape"
   ]
  },
  {
   "cell_type": "code",
   "execution_count": 26,
   "metadata": {},
   "outputs": [
    {
     "data": {
      "text/plain": [
       "torch.Size([5, 3])"
      ]
     },
     "execution_count": 26,
     "metadata": {},
     "output_type": "execute_result"
    }
   ],
   "source": [
    "x.view(5, 3).shape"
   ]
  },
  {
   "cell_type": "code",
   "execution_count": 27,
   "metadata": {},
   "outputs": [
    {
     "data": {
      "text/plain": [
       "torch.Size([15])"
      ]
     },
     "execution_count": 27,
     "metadata": {},
     "output_type": "execute_result"
    }
   ],
   "source": [
    "x.view(-1).shape"
   ]
  },
  {
   "cell_type": "code",
   "execution_count": 28,
   "metadata": {},
   "outputs": [
    {
     "data": {
      "text/plain": [
       "torch.Size([5, 3])"
      ]
     },
     "execution_count": 28,
     "metadata": {},
     "output_type": "execute_result"
    }
   ],
   "source": [
    "x.permute(1, 0).shape"
   ]
  },
  {
   "cell_type": "code",
   "execution_count": 29,
   "metadata": {},
   "outputs": [
    {
     "data": {
      "text/plain": [
       "tensor([[ True, False, False],\n",
       "        [False, False, False],\n",
       "        [False,  True, False],\n",
       "        [False, False, False],\n",
       "        [False, False,  True]])"
      ]
     },
     "execution_count": 29,
     "metadata": {},
     "output_type": "execute_result"
    }
   ],
   "source": [
    "x.permute(1, 0) == x.view(5, 3)"
   ]
  },
  {
   "cell_type": "code",
   "execution_count": 30,
   "metadata": {},
   "outputs": [
    {
     "data": {
      "text/plain": [
       "tensor([[-1.3323, -0.0499,  0.5263, -0.0085,  0.7291],\n",
       "        [ 0.1331,  0.8640, -1.0157, -0.8887,  0.1498],\n",
       "        [-0.2089, -0.3870,  0.9912,  0.4679, -0.2049]])"
      ]
     },
     "execution_count": 30,
     "metadata": {},
     "output_type": "execute_result"
    }
   ],
   "source": [
    "x"
   ]
  },
  {
   "cell_type": "code",
   "execution_count": 31,
   "metadata": {},
   "outputs": [
    {
     "data": {
      "text/plain": [
       "tensor([[-1.3323,  0.1331, -0.2089],\n",
       "        [-0.0499,  0.8640, -0.3870],\n",
       "        [ 0.5263, -1.0157,  0.9912],\n",
       "        [-0.0085, -0.8887,  0.4679],\n",
       "        [ 0.7291,  0.1498, -0.2049]])"
      ]
     },
     "execution_count": 31,
     "metadata": {},
     "output_type": "execute_result"
    }
   ],
   "source": [
    "x.permute(1, 0)"
   ]
  },
  {
   "cell_type": "code",
   "execution_count": 32,
   "metadata": {},
   "outputs": [
    {
     "data": {
      "text/plain": [
       "tensor([[-1.3323, -0.0499,  0.5263],\n",
       "        [-0.0085,  0.7291,  0.1331],\n",
       "        [ 0.8640, -1.0157, -0.8887],\n",
       "        [ 0.1498, -0.2089, -0.3870],\n",
       "        [ 0.9912,  0.4679, -0.2049]])"
      ]
     },
     "execution_count": 32,
     "metadata": {},
     "output_type": "execute_result"
    }
   ],
   "source": [
    "x.view(5, 3)"
   ]
  },
  {
   "cell_type": "markdown",
   "metadata": {},
   "source": [
    "### Indexing"
   ]
  },
  {
   "cell_type": "code",
   "execution_count": 33,
   "metadata": {},
   "outputs": [
    {
     "data": {
      "text/plain": [
       "tensor([ 0.1331,  0.8640, -1.0157, -0.8887,  0.1498])"
      ]
     },
     "execution_count": 33,
     "metadata": {},
     "output_type": "execute_result"
    }
   ],
   "source": [
    "x[1, :]"
   ]
  },
  {
   "cell_type": "code",
   "execution_count": 34,
   "metadata": {},
   "outputs": [
    {
     "data": {
      "text/plain": [
       "tensor([ 0.5263, -1.0157,  0.9912])"
      ]
     },
     "execution_count": 34,
     "metadata": {},
     "output_type": "execute_result"
    }
   ],
   "source": [
    "x[:, 2]"
   ]
  },
  {
   "cell_type": "markdown",
   "metadata": {},
   "source": [
    "## Dynamic Computaitonal Graph and Backpropagation"
   ]
  },
  {
   "cell_type": "markdown",
   "metadata": {},
   "source": [
    "### Calculating Gradient"
   ]
  },
  {
   "cell_type": "code",
   "execution_count": 35,
   "metadata": {},
   "outputs": [
    {
     "name": "stdout",
     "output_type": "stream",
     "text": [
      "False\n"
     ]
    }
   ],
   "source": [
    "x = torch.arange(3, dtype=torch.float32)\n",
    "print(x.requires_grad)"
   ]
  },
  {
   "cell_type": "code",
   "execution_count": 36,
   "metadata": {},
   "outputs": [
    {
     "name": "stdout",
     "output_type": "stream",
     "text": [
      "True\n"
     ]
    }
   ],
   "source": [
    "x.requires_grad_(True)\n",
    "print(x.requires_grad)"
   ]
  },
  {
   "cell_type": "code",
   "execution_count": 37,
   "metadata": {},
   "outputs": [],
   "source": [
    "def f(x):\n",
    "    a = x + 2\n",
    "    b = a ** 2\n",
    "    c = b + 3\n",
    "    y = c.mean()\n",
    "    return a, b, c, y"
   ]
  },
  {
   "cell_type": "code",
   "execution_count": 38,
   "metadata": {},
   "outputs": [
    {
     "data": {
      "text/plain": [
       "(tensor([0., 1., 2.], requires_grad=True),\n",
       " tensor([2., 3., 4.], grad_fn=<AddBackward0>),\n",
       " tensor([ 4.,  9., 16.], grad_fn=<PowBackward0>),\n",
       " tensor([ 7., 12., 19.], grad_fn=<AddBackward0>),\n",
       " tensor(12.6667, grad_fn=<MeanBackward0>))"
      ]
     },
     "execution_count": 38,
     "metadata": {},
     "output_type": "execute_result"
    }
   ],
   "source": [
    "a, b, c, y = f(x)\n",
    "x, a, b, c, y"
   ]
  },
  {
   "cell_type": "code",
   "execution_count": 39,
   "metadata": {},
   "outputs": [],
   "source": [
    "y.backward()"
   ]
  },
  {
   "cell_type": "code",
   "execution_count": 40,
   "metadata": {},
   "outputs": [
    {
     "data": {
      "text/plain": [
       "tensor([1.3333, 2.0000, 2.6667])"
      ]
     },
     "execution_count": 40,
     "metadata": {},
     "output_type": "execute_result"
    }
   ],
   "source": [
    "x.grad"
   ]
  },
  {
   "cell_type": "markdown",
   "metadata": {},
   "source": [
    "### Leveraging GPUs"
   ]
  },
  {
   "cell_type": "code",
   "execution_count": 41,
   "metadata": {},
   "outputs": [
    {
     "name": "stdout",
     "output_type": "stream",
     "text": [
      "GPU is available: True\n"
     ]
    }
   ],
   "source": [
    "print(f\"GPU is available: {torch.cuda.is_available()}\")"
   ]
  },
  {
   "cell_type": "code",
   "execution_count": 42,
   "metadata": {},
   "outputs": [
    {
     "name": "stdout",
     "output_type": "stream",
     "text": [
      "Using device: cuda\n"
     ]
    }
   ],
   "source": [
    "device = torch.device(\"cuda\" if torch.cuda.is_available() else \"cpu\")\n",
    "print(f\"Using device: {device}\")"
   ]
  },
  {
   "cell_type": "code",
   "execution_count": 43,
   "metadata": {},
   "outputs": [
    {
     "name": "stdout",
     "output_type": "stream",
     "text": [
      "tensor([[0., 0., 0., 0.],\n",
      "        [0., 0., 0., 0.],\n",
      "        [0., 0., 0., 0.]])\n",
      "tensor([[0., 0., 0., 0.],\n",
      "        [0., 0., 0., 0.],\n",
      "        [0., 0., 0., 0.]], device='cuda:0')\n"
     ]
    }
   ],
   "source": [
    "x = torch.zeros(3, 4)\n",
    "print(x)\n",
    "x = x.to(device)\n",
    "print(x)"
   ]
  },
  {
   "cell_type": "code",
   "execution_count": 44,
   "metadata": {},
   "outputs": [
    {
     "name": "stdout",
     "output_type": "stream",
     "text": [
      "CPU Time: 0.01735s\n",
      "CPU Time: 0.03669s\n"
     ]
    }
   ],
   "source": [
    "# GPU vs CPU\n",
    "x = torch.randn(1000, 1000)\n",
    "\n",
    "start = time.time()\n",
    "torch.matmul(x, x)\n",
    "end = time.time()\n",
    "\n",
    "print(f\"CPU Time: {end - start:6.5f}s\")\n",
    "\n",
    "if torch.cuda.is_available():\n",
    "    # CUDA is asynchronous, so we need to use different timing functions\n",
    "    x = x.to(device)\n",
    "    start = torch.cuda.Event(enable_timing=True)\n",
    "    end = torch.cuda.Event(enable_timing=True)\n",
    "    start.record()\n",
    "    torch.matmul(x, x)\n",
    "    end.record()\n",
    "    torch.cuda.synchronize()\n",
    "    print(f\"CPU Time: {start.elapsed_time(end) * 0.001:6.5f}s\")"
   ]
  },
  {
   "cell_type": "code",
   "execution_count": 45,
   "metadata": {},
   "outputs": [],
   "source": [
    "# GPU operations have a separate seed we also want to set\n",
    "if torch.cuda.is_available():\n",
    "    torch.cuda.manual_seed(42)\n",
    "    torch.cuda.manual_seed_all(42)\n",
    "\n",
    "# Additionally, some operations on a GPU are implemented stochastic for efficiency\n",
    "# We want to ensure that all operations are deterministic on GPU (if used) for reproducibility\n",
    "torch.backends.cudnn.deterministic = True\n",
    "torch.backends.cudnn.benchmark = False"
   ]
  },
  {
   "cell_type": "markdown",
   "metadata": {},
   "source": [
    "## Learning by Example: Continuous XOR"
   ]
  },
  {
   "cell_type": "markdown",
   "metadata": {},
   "source": [
    "### The model"
   ]
  },
  {
   "cell_type": "code",
   "execution_count": 46,
   "metadata": {},
   "outputs": [],
   "source": [
    "class SimpleClassifier(nn.Module):\n",
    "    def __init__(self, num_inputs, num_hidden, num_outputs):\n",
    "        super().__init__()\n",
    "        self.linear1 = nn.Linear(num_inputs, num_hidden)\n",
    "        self.linear2 = nn.Linear(num_hidden, num_outputs)\n",
    "        self.act_fn = nn.Tanh()\n",
    "\n",
    "    def forward(self, x):\n",
    "        x = self.linear1(x)\n",
    "        x = self.act_fn(x)\n",
    "        x = self.linear2(x)\n",
    "        return x"
   ]
  },
  {
   "cell_type": "code",
   "execution_count": 47,
   "metadata": {},
   "outputs": [
    {
     "data": {
      "text/plain": [
       "SimpleClassifier(\n",
       "  (linear1): Linear(in_features=2, out_features=8, bias=True)\n",
       "  (linear2): Linear(in_features=8, out_features=1, bias=True)\n",
       "  (act_fn): Tanh()\n",
       ")"
      ]
     },
     "execution_count": 47,
     "metadata": {},
     "output_type": "execute_result"
    }
   ],
   "source": [
    "model = SimpleClassifier(2, 8, 1)\n",
    "model"
   ]
  },
  {
   "cell_type": "code",
   "execution_count": 48,
   "metadata": {},
   "outputs": [
    {
     "name": "stdout",
     "output_type": "stream",
     "text": [
      "linear1.weight\t: torch.Size([8, 2])\n",
      "linear1.bias\t: torch.Size([8])\n",
      "linear2.weight\t: torch.Size([1, 8])\n",
      "linear2.bias\t: torch.Size([1])\n"
     ]
    }
   ],
   "source": [
    "for name, param in model.named_parameters():\n",
    "    print(f\"{name}\\t: {param.shape}\")"
   ]
  },
  {
   "cell_type": "markdown",
   "metadata": {},
   "source": [
    "### The Data"
   ]
  },
  {
   "cell_type": "code",
   "execution_count": 49,
   "metadata": {},
   "outputs": [
    {
     "data": {
      "text/plain": [
       "torch.utils.data.dataset.Dataset"
      ]
     },
     "execution_count": 49,
     "metadata": {},
     "output_type": "execute_result"
    }
   ],
   "source": [
    "data.Dataset # a uniform interface to access the training/test data"
   ]
  },
  {
   "cell_type": "code",
   "execution_count": 50,
   "metadata": {},
   "outputs": [
    {
     "data": {
      "text/plain": [
       "torch.utils.data.dataloader.DataLoader"
      ]
     },
     "execution_count": 50,
     "metadata": {},
     "output_type": "execute_result"
    }
   ],
   "source": [
    "data.DataLoader # efficiently load and stack the data points from the dataset into batches during training."
   ]
  },
  {
   "cell_type": "code",
   "execution_count": 51,
   "metadata": {},
   "outputs": [],
   "source": [
    "class XORDataset(torch.utils.data.Dataset):\n",
    "    def __init__(self, size, std=0.1):\n",
    "        \"\"\"XORDataset.\n",
    "\n",
    "        Args:\n",
    "            size: Number of data points we want to generate\n",
    "            std: Standard deviation of the noise (see generate_continuous_xor function)\n",
    "        \"\"\"\n",
    "        super().__init__()\n",
    "        self.size = size\n",
    "        self.std = std\n",
    "        self.generate_continuous_xor()\n",
    "\n",
    "    def generate_continuous_xor(self):\n",
    "        data = torch.randint(0, 2, size=(self.size, 2), dtype=torch.float32)\n",
    "        label = (data.sum(dim=1) == 1).to(torch.int8)\n",
    "        data += self.std * torch.randn(data.shape)\n",
    "        self.data = data\n",
    "        self.label = label\n",
    "\n",
    "    def __len__(self):\n",
    "        return self.size\n",
    "    \n",
    "    def __getitem__(self, index):\n",
    "        data_point = self.data[index]\n",
    "        data_label = self.label[index]\n",
    "        return data_point, data_label"
   ]
  },
  {
   "cell_type": "code",
   "execution_count": 52,
   "metadata": {},
   "outputs": [],
   "source": [
    "def visualize_samples(data, label):\n",
    "    if isinstance(data, torch.Tensor):\n",
    "        data = data.cpu().numpy()\n",
    "    if isinstance(label, torch.Tensor):\n",
    "        label = label.cpu().numpy()\n",
    "    data_0 = data[label == 0]\n",
    "    data_1 = data[label == 1]\n",
    "\n",
    "    plt.figure(figsize=(5, 5))\n",
    "    plt.scatter(data_0[:, 0], data_0[:, 1], edgecolors=\"#333\", label=\"Class 0\")\n",
    "    plt.scatter(data_1[:, 0], data_1[:, 1], edgecolors=\"#333\", label=\"Class 1\")\n",
    "    plt.title(\"Dataset Samples\")\n",
    "    plt.xlabel(r\"$x_2$\")\n",
    "    plt.ylabel(r\"$x_1$\")\n",
    "    plt.legend()"
   ]
  },
  {
   "cell_type": "code",
   "execution_count": 53,
   "metadata": {},
   "outputs": [
    {
     "name": "stdout",
     "output_type": "stream",
     "text": [
      "Size of dataset: 200\n",
      "Data point 0: (tensor([1.0247, 0.1263]), tensor(1, dtype=torch.int8))\n"
     ]
    }
   ],
   "source": [
    "dataset = XORDataset(size=200)\n",
    "print(\"Size of dataset:\", len(dataset))\n",
    "print(\"Data point 0:\", dataset[0])"
   ]
  },
  {
   "cell_type": "code",
   "execution_count": 54,
   "metadata": {},
   "outputs": [
    {
     "data": {
      "application/pdf": "[encoded data removed]",
      "image/svg+xml": [
       "<?xml version=\"1.0\" encoding=\"utf-8\" standalone=\"no\"?>\n",
       "<!DOCTYPE svg PUBLIC \"-//W3C//DTD SVG 1.1//EN\"\n",
       "  \"http://www.w3.org/Graphics/SVG/1.1/DTD/svg11.dtd\">\n",
       "<svg xmlns:xlink=\"http://www.w3.org/1999/xlink\" width=\"338.360937pt\" height=\"337.074375pt\" viewBox=\"0 0 338.360937 337.074375\" xmlns=\"http://www.w3.org/2000/svg\" version=\"1.1\">\n",
       " <metadata>\n",
       "  <rdf:RDF xmlns:dc=\"http://purl.org/dc/elements/1.1/\" xmlns:cc=\"http://creativecommons.org/ns#\" xmlns:rdf=\"http://www.w3.org/1999/02/22-rdf-syntax-ns#\">\n",
       "   <cc:Work>\n",
       "    <dc:type rdf:resource=\"http://purl.org/dc/dcmitype/StillImage\"/>\n",
       "    <dc:date>2024-05-24T17:12:12.173841</dc:date>\n",
       "    <dc:format>image/svg+xml</dc:format>\n",
       "    <dc:creator>\n",
       "     <cc:Agent>\n",
       "      <dc:title>Matplotlib v3.9.0, https://matplotlib.org/</dc:title>\n",
       "     </cc:Agent>\n",
       "    </dc:creator>\n",
       "   </cc:Work>\n",
       "  </rdf:RDF>\n",
       " </metadata>\n",
       " <defs>\n",
       "  <style type=\"text/css\">*{stroke-linejoin: round; stroke-linecap: butt}</style>\n",
       " </defs>\n",
       " <g id=\"figure_1\">\n",
       "  <g id=\"patch_1\">\n",
       "   <path d=\"M 0 337.074375 \n",
       "L 338.360937 337.074375 \n",
       "L 338.360937 0 \n",
       "L 0 0 \n",
       "z\n",
       "\" style=\"fill: #ffffff\"/>\n",
       "  </g>\n",
       "  <g id=\"axes_1\">\n",
       "   <g id=\"patch_2\">\n",
       "    <path d=\"M 52.160938 299.518125 \n",
       "L 331.160937 299.518125 \n",
       "L 331.160937 22.318125 \n",
       "L 52.160938 22.318125 \n",
       "z\n",
       "\" style=\"fill: #ffffff\"/>\n",
       "   </g>\n",
       "   <g id=\"PathCollection_1\">\n",
       "    <defs>\n",
       "     <path id=\"me9957ef456\" d=\"M 0 3 \n",
       "C 0.795609 3 1.55874 2.683901 2.12132 2.12132 \n",
       "C 2.683901 1.55874 3 0.795609 3 0 \n",
       "C 3 -0.795609 2.683901 -1.55874 2.12132 -2.12132 \n",
       "C 1.55874 -2.683901 0.795609 -3 0 -3 \n",
       "C -0.795609 -3 -1.55874 -2.683901 -2.12132 -2.12132 \n",
       "C -2.683901 -1.55874 -3 -0.795609 -3 0 \n",
       "C -3 0.795609 -2.683901 1.55874 -2.12132 2.12132 \n",
       "C -1.55874 2.683901 -0.795609 3 0 3 \n",
       "z\n",
       "\" style=\"stroke: #333333\"/>\n",
       "    </defs>\n",
       "    <g clip-path=\"url(#pceb4a93a00)\">\n",
       "     <use xlink:href=\"#me9957ef456\" x=\"108.398981\" y=\"245.131181\" style=\"fill: #1f77b4; stroke: #333333\"/>\n",
       "     <use xlink:href=\"#me9957ef456\" x=\"271.419979\" y=\"64.453885\" style=\"fill: #1f77b4; stroke: #333333\"/>\n",
       "     <use xlink:href=\"#me9957ef456\" x=\"257.846096\" y=\"56.897946\" style=\"fill: #1f77b4; stroke: #333333\"/>\n",
       "     <use xlink:href=\"#me9957ef456\" x=\"68.518274\" y=\"262.137335\" style=\"fill: #1f77b4; stroke: #333333\"/>\n",
       "     <use xlink:href=\"#me9957ef456\" x=\"80.999231\" y=\"273.83093\" style=\"fill: #1f77b4; stroke: #333333\"/>\n",
       "     <use xlink:href=\"#me9957ef456\" x=\"97.36287\" y=\"253.398457\" style=\"fill: #1f77b4; stroke: #333333\"/>\n",
       "     <use xlink:href=\"#me9957ef456\" x=\"124.954408\" y=\"240.854236\" style=\"fill: #1f77b4; stroke: #333333\"/>\n",
       "     <use xlink:href=\"#me9957ef456\" x=\"273.62187\" y=\"72.095164\" style=\"fill: #1f77b4; stroke: #333333\"/>\n",
       "     <use xlink:href=\"#me9957ef456\" x=\"277.394776\" y=\"60.637666\" style=\"fill: #1f77b4; stroke: #333333\"/>\n",
       "     <use xlink:href=\"#me9957ef456\" x=\"272.183083\" y=\"83.751921\" style=\"fill: #1f77b4; stroke: #333333\"/>\n",
       "     <use xlink:href=\"#me9957ef456\" x=\"257.20923\" y=\"52.627063\" style=\"fill: #1f77b4; stroke: #333333\"/>\n",
       "     <use xlink:href=\"#me9957ef456\" x=\"81.800888\" y=\"246.336093\" style=\"fill: #1f77b4; stroke: #333333\"/>\n",
       "     <use xlink:href=\"#me9957ef456\" x=\"279.616372\" y=\"77.922705\" style=\"fill: #1f77b4; stroke: #333333\"/>\n",
       "     <use xlink:href=\"#me9957ef456\" x=\"80.497433\" y=\"245.499888\" style=\"fill: #1f77b4; stroke: #333333\"/>\n",
       "     <use xlink:href=\"#me9957ef456\" x=\"112.086991\" y=\"254.390965\" style=\"fill: #1f77b4; stroke: #333333\"/>\n",
       "     <use xlink:href=\"#me9957ef456\" x=\"122.31074\" y=\"251.934897\" style=\"fill: #1f77b4; stroke: #333333\"/>\n",
       "     <use xlink:href=\"#me9957ef456\" x=\"271.252849\" y=\"82.776251\" style=\"fill: #1f77b4; stroke: #333333\"/>\n",
       "     <use xlink:href=\"#me9957ef456\" x=\"99.489267\" y=\"265.110409\" style=\"fill: #1f77b4; stroke: #333333\"/>\n",
       "     <use xlink:href=\"#me9957ef456\" x=\"74.679128\" y=\"256.065266\" style=\"fill: #1f77b4; stroke: #333333\"/>\n",
       "     <use xlink:href=\"#me9957ef456\" x=\"69.079533\" y=\"232.81791\" style=\"fill: #1f77b4; stroke: #333333\"/>\n",
       "     <use xlink:href=\"#me9957ef456\" x=\"284.661476\" y=\"58.118101\" style=\"fill: #1f77b4; stroke: #333333\"/>\n",
       "     <use xlink:href=\"#me9957ef456\" x=\"121.518002\" y=\"262.810229\" style=\"fill: #1f77b4; stroke: #333333\"/>\n",
       "     <use xlink:href=\"#me9957ef456\" x=\"92.732585\" y=\"259.860687\" style=\"fill: #1f77b4; stroke: #333333\"/>\n",
       "     <use xlink:href=\"#me9957ef456\" x=\"83.249187\" y=\"245.813097\" style=\"fill: #1f77b4; stroke: #333333\"/>\n",
       "     <use xlink:href=\"#me9957ef456\" x=\"256.724594\" y=\"94.322289\" style=\"fill: #1f77b4; stroke: #333333\"/>\n",
       "     <use xlink:href=\"#me9957ef456\" x=\"92.133312\" y=\"241.896911\" style=\"fill: #1f77b4; stroke: #333333\"/>\n",
       "     <use xlink:href=\"#me9957ef456\" x=\"255.702895\" y=\"84.715602\" style=\"fill: #1f77b4; stroke: #333333\"/>\n",
       "     <use xlink:href=\"#me9957ef456\" x=\"287.956085\" y=\"68.240929\" style=\"fill: #1f77b4; stroke: #333333\"/>\n",
       "     <use xlink:href=\"#me9957ef456\" x=\"280.809613\" y=\"63.764298\" style=\"fill: #1f77b4; stroke: #333333\"/>\n",
       "     <use xlink:href=\"#me9957ef456\" x=\"281.250036\" y=\"71.677646\" style=\"fill: #1f77b4; stroke: #333333\"/>\n",
       "     <use xlink:href=\"#me9957ef456\" x=\"97.221973\" y=\"230.314121\" style=\"fill: #1f77b4; stroke: #333333\"/>\n",
       "     <use xlink:href=\"#me9957ef456\" x=\"103.012899\" y=\"285.674104\" style=\"fill: #1f77b4; stroke: #333333\"/>\n",
       "     <use xlink:href=\"#me9957ef456\" x=\"100.800813\" y=\"249.091273\" style=\"fill: #1f77b4; stroke: #333333\"/>\n",
       "     <use xlink:href=\"#me9957ef456\" x=\"98.889907\" y=\"261.499228\" style=\"fill: #1f77b4; stroke: #333333\"/>\n",
       "     <use xlink:href=\"#me9957ef456\" x=\"261.703408\" y=\"90.180964\" style=\"fill: #1f77b4; stroke: #333333\"/>\n",
       "     <use xlink:href=\"#me9957ef456\" x=\"250.097808\" y=\"62.641674\" style=\"fill: #1f77b4; stroke: #333333\"/>\n",
       "     <use xlink:href=\"#me9957ef456\" x=\"114.698884\" y=\"272.702211\" style=\"fill: #1f77b4; stroke: #333333\"/>\n",
       "     <use xlink:href=\"#me9957ef456\" x=\"108.509588\" y=\"263.364071\" style=\"fill: #1f77b4; stroke: #333333\"/>\n",
       "     <use xlink:href=\"#me9957ef456\" x=\"111.255931\" y=\"275.908384\" style=\"fill: #1f77b4; stroke: #333333\"/>\n",
       "     <use xlink:href=\"#me9957ef456\" x=\"252.410572\" y=\"101.034193\" style=\"fill: #1f77b4; stroke: #333333\"/>\n",
       "     <use xlink:href=\"#me9957ef456\" x=\"318.479119\" y=\"54.345538\" style=\"fill: #1f77b4; stroke: #333333\"/>\n",
       "     <use xlink:href=\"#me9957ef456\" x=\"279.288611\" y=\"61.098776\" style=\"fill: #1f77b4; stroke: #333333\"/>\n",
       "     <use xlink:href=\"#me9957ef456\" x=\"90.775452\" y=\"244.462403\" style=\"fill: #1f77b4; stroke: #333333\"/>\n",
       "     <use xlink:href=\"#me9957ef456\" x=\"258.312784\" y=\"81.784922\" style=\"fill: #1f77b4; stroke: #333333\"/>\n",
       "     <use xlink:href=\"#me9957ef456\" x=\"285.04289\" y=\"87.942998\" style=\"fill: #1f77b4; stroke: #333333\"/>\n",
       "     <use xlink:href=\"#me9957ef456\" x=\"291.704218\" y=\"76.43452\" style=\"fill: #1f77b4; stroke: #333333\"/>\n",
       "     <use xlink:href=\"#me9957ef456\" x=\"276.471188\" y=\"75.377421\" style=\"fill: #1f77b4; stroke: #333333\"/>\n",
       "     <use xlink:href=\"#me9957ef456\" x=\"254.967221\" y=\"95.800435\" style=\"fill: #1f77b4; stroke: #333333\"/>\n",
       "     <use xlink:href=\"#me9957ef456\" x=\"260.567006\" y=\"68.853572\" style=\"fill: #1f77b4; stroke: #333333\"/>\n",
       "     <use xlink:href=\"#me9957ef456\" x=\"108.168063\" y=\"270.392776\" style=\"fill: #1f77b4; stroke: #333333\"/>\n",
       "     <use xlink:href=\"#me9957ef456\" x=\"306.300328\" y=\"83.06843\" style=\"fill: #1f77b4; stroke: #333333\"/>\n",
       "     <use xlink:href=\"#me9957ef456\" x=\"308.024218\" y=\"76.561808\" style=\"fill: #1f77b4; stroke: #333333\"/>\n",
       "     <use xlink:href=\"#me9957ef456\" x=\"276.295572\" y=\"61.013352\" style=\"fill: #1f77b4; stroke: #333333\"/>\n",
       "     <use xlink:href=\"#me9957ef456\" x=\"91.285959\" y=\"229.201507\" style=\"fill: #1f77b4; stroke: #333333\"/>\n",
       "     <use xlink:href=\"#me9957ef456\" x=\"123.68297\" y=\"259.800742\" style=\"fill: #1f77b4; stroke: #333333\"/>\n",
       "     <use xlink:href=\"#me9957ef456\" x=\"269.931962\" y=\"97.335754\" style=\"fill: #1f77b4; stroke: #333333\"/>\n",
       "     <use xlink:href=\"#me9957ef456\" x=\"89.293418\" y=\"230.689072\" style=\"fill: #1f77b4; stroke: #333333\"/>\n",
       "     <use xlink:href=\"#me9957ef456\" x=\"302.41022\" y=\"89.261045\" style=\"fill: #1f77b4; stroke: #333333\"/>\n",
       "     <use xlink:href=\"#me9957ef456\" x=\"84.300437\" y=\"247.840672\" style=\"fill: #1f77b4; stroke: #333333\"/>\n",
       "     <use xlink:href=\"#me9957ef456\" x=\"84.525296\" y=\"250.93596\" style=\"fill: #1f77b4; stroke: #333333\"/>\n",
       "     <use xlink:href=\"#me9957ef456\" x=\"281.789617\" y=\"86.688198\" style=\"fill: #1f77b4; stroke: #333333\"/>\n",
       "     <use xlink:href=\"#me9957ef456\" x=\"252.436319\" y=\"58.286406\" style=\"fill: #1f77b4; stroke: #333333\"/>\n",
       "     <use xlink:href=\"#me9957ef456\" x=\"266.684668\" y=\"53.996292\" style=\"fill: #1f77b4; stroke: #333333\"/>\n",
       "     <use xlink:href=\"#me9957ef456\" x=\"114.388326\" y=\"282.628385\" style=\"fill: #1f77b4; stroke: #333333\"/>\n",
       "     <use xlink:href=\"#me9957ef456\" x=\"291.788835\" y=\"80.907154\" style=\"fill: #1f77b4; stroke: #333333\"/>\n",
       "     <use xlink:href=\"#me9957ef456\" x=\"88.299065\" y=\"245.382055\" style=\"fill: #1f77b4; stroke: #333333\"/>\n",
       "     <use xlink:href=\"#me9957ef456\" x=\"127.508035\" y=\"277.149433\" style=\"fill: #1f77b4; stroke: #333333\"/>\n",
       "     <use xlink:href=\"#me9957ef456\" x=\"280.56084\" y=\"87.231266\" style=\"fill: #1f77b4; stroke: #333333\"/>\n",
       "     <use xlink:href=\"#me9957ef456\" x=\"287.520234\" y=\"88.521845\" style=\"fill: #1f77b4; stroke: #333333\"/>\n",
       "     <use xlink:href=\"#me9957ef456\" x=\"285.306924\" y=\"54.360465\" style=\"fill: #1f77b4; stroke: #333333\"/>\n",
       "     <use xlink:href=\"#me9957ef456\" x=\"97.075275\" y=\"242.818526\" style=\"fill: #1f77b4; stroke: #333333\"/>\n",
       "     <use xlink:href=\"#me9957ef456\" x=\"96.850873\" y=\"280.49366\" style=\"fill: #1f77b4; stroke: #333333\"/>\n",
       "     <use xlink:href=\"#me9957ef456\" x=\"101.285874\" y=\"266.030613\" style=\"fill: #1f77b4; stroke: #333333\"/>\n",
       "     <use xlink:href=\"#me9957ef456\" x=\"262.930979\" y=\"63.829835\" style=\"fill: #1f77b4; stroke: #333333\"/>\n",
       "     <use xlink:href=\"#me9957ef456\" x=\"293.598105\" y=\"81.48371\" style=\"fill: #1f77b4; stroke: #333333\"/>\n",
       "     <use xlink:href=\"#me9957ef456\" x=\"273.702075\" y=\"82.007961\" style=\"fill: #1f77b4; stroke: #333333\"/>\n",
       "     <use xlink:href=\"#me9957ef456\" x=\"83.11013\" y=\"231.40752\" style=\"fill: #1f77b4; stroke: #333333\"/>\n",
       "     <use xlink:href=\"#me9957ef456\" x=\"291.838065\" y=\"52.811375\" style=\"fill: #1f77b4; stroke: #333333\"/>\n",
       "     <use xlink:href=\"#me9957ef456\" x=\"296.815271\" y=\"60.45064\" style=\"fill: #1f77b4; stroke: #333333\"/>\n",
       "     <use xlink:href=\"#me9957ef456\" x=\"100.905557\" y=\"246.134634\" style=\"fill: #1f77b4; stroke: #333333\"/>\n",
       "     <use xlink:href=\"#me9957ef456\" x=\"100.415934\" y=\"263.748715\" style=\"fill: #1f77b4; stroke: #333333\"/>\n",
       "     <use xlink:href=\"#me9957ef456\" x=\"90.87193\" y=\"237.429314\" style=\"fill: #1f77b4; stroke: #333333\"/>\n",
       "     <use xlink:href=\"#me9957ef456\" x=\"261.663989\" y=\"66.826157\" style=\"fill: #1f77b4; stroke: #333333\"/>\n",
       "     <use xlink:href=\"#me9957ef456\" x=\"113.062425\" y=\"228.093435\" style=\"fill: #1f77b4; stroke: #333333\"/>\n",
       "     <use xlink:href=\"#me9957ef456\" x=\"93.010919\" y=\"254.611775\" style=\"fill: #1f77b4; stroke: #333333\"/>\n",
       "     <use xlink:href=\"#me9957ef456\" x=\"65.127126\" y=\"241.283236\" style=\"fill: #1f77b4; stroke: #333333\"/>\n",
       "     <use xlink:href=\"#me9957ef456\" x=\"96.33896\" y=\"267.763341\" style=\"fill: #1f77b4; stroke: #333333\"/>\n",
       "     <use xlink:href=\"#me9957ef456\" x=\"80.473588\" y=\"241.181871\" style=\"fill: #1f77b4; stroke: #333333\"/>\n",
       "     <use xlink:href=\"#me9957ef456\" x=\"79.188455\" y=\"286.918125\" style=\"fill: #1f77b4; stroke: #333333\"/>\n",
       "     <use xlink:href=\"#me9957ef456\" x=\"116.908493\" y=\"286.26828\" style=\"fill: #1f77b4; stroke: #333333\"/>\n",
       "     <use xlink:href=\"#me9957ef456\" x=\"104.628729\" y=\"219.826819\" style=\"fill: #1f77b4; stroke: #333333\"/>\n",
       "     <use xlink:href=\"#me9957ef456\" x=\"262.210416\" y=\"57.049395\" style=\"fill: #1f77b4; stroke: #333333\"/>\n",
       "     <use xlink:href=\"#me9957ef456\" x=\"142.920488\" y=\"253.538475\" style=\"fill: #1f77b4; stroke: #333333\"/>\n",
       "    </g>\n",
       "   </g>\n",
       "   <g id=\"PathCollection_2\">\n",
       "    <defs>\n",
       "     <path id=\"m71bd8251b1\" d=\"M 0 3 \n",
       "C 0.795609 3 1.55874 2.683901 2.12132 2.12132 \n",
       "C 2.683901 1.55874 3 0.795609 3 0 \n",
       "C 3 -0.795609 2.683901 -1.55874 2.12132 -2.12132 \n",
       "C 1.55874 -2.683901 0.795609 -3 0 -3 \n",
       "C -0.795609 -3 -1.55874 -2.683901 -2.12132 -2.12132 \n",
       "C -2.683901 -1.55874 -3 -0.795609 -3 0 \n",
       "C -3 0.795609 -2.683901 1.55874 -2.12132 2.12132 \n",
       "C -1.55874 2.683901 -0.795609 3 0 3 \n",
       "z\n",
       "\" style=\"stroke: #333333\"/>\n",
       "    </defs>\n",
       "    <g clip-path=\"url(#pceb4a93a00)\">\n",
       "     <use xlink:href=\"#m71bd8251b1\" x=\"283.022246\" y=\"231.55933\" style=\"fill: #ff7f0e; stroke: #333333\"/>\n",
       "     <use xlink:href=\"#m71bd8251b1\" x=\"243.311607\" y=\"253.686904\" style=\"fill: #ff7f0e; stroke: #333333\"/>\n",
       "     <use xlink:href=\"#m71bd8251b1\" x=\"282.358807\" y=\"223.990968\" style=\"fill: #ff7f0e; stroke: #333333\"/>\n",
       "     <use xlink:href=\"#m71bd8251b1\" x=\"264.613587\" y=\"245.469797\" style=\"fill: #ff7f0e; stroke: #333333\"/>\n",
       "     <use xlink:href=\"#m71bd8251b1\" x=\"75.987374\" y=\"76.965958\" style=\"fill: #ff7f0e; stroke: #333333\"/>\n",
       "     <use xlink:href=\"#m71bd8251b1\" x=\"265.793494\" y=\"257.991918\" style=\"fill: #ff7f0e; stroke: #333333\"/>\n",
       "     <use xlink:href=\"#m71bd8251b1\" x=\"128.58271\" y=\"67.772526\" style=\"fill: #ff7f0e; stroke: #333333\"/>\n",
       "     <use xlink:href=\"#m71bd8251b1\" x=\"293.165534\" y=\"240.776405\" style=\"fill: #ff7f0e; stroke: #333333\"/>\n",
       "     <use xlink:href=\"#m71bd8251b1\" x=\"131.073906\" y=\"67.016343\" style=\"fill: #ff7f0e; stroke: #333333\"/>\n",
       "     <use xlink:href=\"#m71bd8251b1\" x=\"252.608687\" y=\"248.026548\" style=\"fill: #ff7f0e; stroke: #333333\"/>\n",
       "     <use xlink:href=\"#m71bd8251b1\" x=\"284.386966\" y=\"276.177643\" style=\"fill: #ff7f0e; stroke: #333333\"/>\n",
       "     <use xlink:href=\"#m71bd8251b1\" x=\"302.011048\" y=\"243.325782\" style=\"fill: #ff7f0e; stroke: #333333\"/>\n",
       "     <use xlink:href=\"#m71bd8251b1\" x=\"79.903409\" y=\"108.012197\" style=\"fill: #ff7f0e; stroke: #333333\"/>\n",
       "     <use xlink:href=\"#m71bd8251b1\" x=\"75.110024\" y=\"41.542113\" style=\"fill: #ff7f0e; stroke: #333333\"/>\n",
       "     <use xlink:href=\"#m71bd8251b1\" x=\"256.915248\" y=\"262.664593\" style=\"fill: #ff7f0e; stroke: #333333\"/>\n",
       "     <use xlink:href=\"#m71bd8251b1\" x=\"102.844151\" y=\"106.74634\" style=\"fill: #ff7f0e; stroke: #333333\"/>\n",
       "     <use xlink:href=\"#m71bd8251b1\" x=\"104.486548\" y=\"54.341807\" style=\"fill: #ff7f0e; stroke: #333333\"/>\n",
       "     <use xlink:href=\"#m71bd8251b1\" x=\"98.115693\" y=\"74.939783\" style=\"fill: #ff7f0e; stroke: #333333\"/>\n",
       "     <use xlink:href=\"#m71bd8251b1\" x=\"64.842756\" y=\"74.652109\" style=\"fill: #ff7f0e; stroke: #333333\"/>\n",
       "     <use xlink:href=\"#m71bd8251b1\" x=\"87.146348\" y=\"101.277374\" style=\"fill: #ff7f0e; stroke: #333333\"/>\n",
       "     <use xlink:href=\"#m71bd8251b1\" x=\"274.551162\" y=\"278.623412\" style=\"fill: #ff7f0e; stroke: #333333\"/>\n",
       "     <use xlink:href=\"#m71bd8251b1\" x=\"266.607807\" y=\"259.353164\" style=\"fill: #ff7f0e; stroke: #333333\"/>\n",
       "     <use xlink:href=\"#m71bd8251b1\" x=\"277.412947\" y=\"260.102672\" style=\"fill: #ff7f0e; stroke: #333333\"/>\n",
       "     <use xlink:href=\"#m71bd8251b1\" x=\"257.126348\" y=\"233.713735\" style=\"fill: #ff7f0e; stroke: #333333\"/>\n",
       "     <use xlink:href=\"#m71bd8251b1\" x=\"67.926812\" y=\"66.597214\" style=\"fill: #ff7f0e; stroke: #333333\"/>\n",
       "     <use xlink:href=\"#m71bd8251b1\" x=\"253.301058\" y=\"247.483525\" style=\"fill: #ff7f0e; stroke: #333333\"/>\n",
       "     <use xlink:href=\"#m71bd8251b1\" x=\"86.003587\" y=\"57.296084\" style=\"fill: #ff7f0e; stroke: #333333\"/>\n",
       "     <use xlink:href=\"#m71bd8251b1\" x=\"102.899921\" y=\"107.479307\" style=\"fill: #ff7f0e; stroke: #333333\"/>\n",
       "     <use xlink:href=\"#m71bd8251b1\" x=\"264.047624\" y=\"285.936552\" style=\"fill: #ff7f0e; stroke: #333333\"/>\n",
       "     <use xlink:href=\"#m71bd8251b1\" x=\"307.856062\" y=\"219.967033\" style=\"fill: #ff7f0e; stroke: #333333\"/>\n",
       "     <use xlink:href=\"#m71bd8251b1\" x=\"115.166086\" y=\"34.918125\" style=\"fill: #ff7f0e; stroke: #333333\"/>\n",
       "     <use xlink:href=\"#m71bd8251b1\" x=\"104.728698\" y=\"86.892271\" style=\"fill: #ff7f0e; stroke: #333333\"/>\n",
       "     <use xlink:href=\"#m71bd8251b1\" x=\"276.277994\" y=\"227.486209\" style=\"fill: #ff7f0e; stroke: #333333\"/>\n",
       "     <use xlink:href=\"#m71bd8251b1\" x=\"272.073544\" y=\"206.913742\" style=\"fill: #ff7f0e; stroke: #333333\"/>\n",
       "     <use xlink:href=\"#m71bd8251b1\" x=\"288.931051\" y=\"262.25993\" style=\"fill: #ff7f0e; stroke: #333333\"/>\n",
       "     <use xlink:href=\"#m71bd8251b1\" x=\"104.355806\" y=\"88.252383\" style=\"fill: #ff7f0e; stroke: #333333\"/>\n",
       "     <use xlink:href=\"#m71bd8251b1\" x=\"93.429685\" y=\"81.871714\" style=\"fill: #ff7f0e; stroke: #333333\"/>\n",
       "     <use xlink:href=\"#m71bd8251b1\" x=\"97.176743\" y=\"84.482079\" style=\"fill: #ff7f0e; stroke: #333333\"/>\n",
       "     <use xlink:href=\"#m71bd8251b1\" x=\"111.107526\" y=\"70.889299\" style=\"fill: #ff7f0e; stroke: #333333\"/>\n",
       "     <use xlink:href=\"#m71bd8251b1\" x=\"266.247843\" y=\"244.9981\" style=\"fill: #ff7f0e; stroke: #333333\"/>\n",
       "     <use xlink:href=\"#m71bd8251b1\" x=\"105.754753\" y=\"89.534503\" style=\"fill: #ff7f0e; stroke: #333333\"/>\n",
       "     <use xlink:href=\"#m71bd8251b1\" x=\"89.379673\" y=\"99.902568\" style=\"fill: #ff7f0e; stroke: #333333\"/>\n",
       "     <use xlink:href=\"#m71bd8251b1\" x=\"255.559449\" y=\"231.367392\" style=\"fill: #ff7f0e; stroke: #333333\"/>\n",
       "     <use xlink:href=\"#m71bd8251b1\" x=\"111.957835\" y=\"74.842994\" style=\"fill: #ff7f0e; stroke: #333333\"/>\n",
       "     <use xlink:href=\"#m71bd8251b1\" x=\"100.00416\" y=\"78.43046\" style=\"fill: #ff7f0e; stroke: #333333\"/>\n",
       "     <use xlink:href=\"#m71bd8251b1\" x=\"126.609406\" y=\"118.793158\" style=\"fill: #ff7f0e; stroke: #333333\"/>\n",
       "     <use xlink:href=\"#m71bd8251b1\" x=\"105.690011\" y=\"58.442095\" style=\"fill: #ff7f0e; stroke: #333333\"/>\n",
       "     <use xlink:href=\"#m71bd8251b1\" x=\"279.459963\" y=\"248.430217\" style=\"fill: #ff7f0e; stroke: #333333\"/>\n",
       "     <use xlink:href=\"#m71bd8251b1\" x=\"282.976635\" y=\"261.128434\" style=\"fill: #ff7f0e; stroke: #333333\"/>\n",
       "     <use xlink:href=\"#m71bd8251b1\" x=\"82.816459\" y=\"54.057546\" style=\"fill: #ff7f0e; stroke: #333333\"/>\n",
       "     <use xlink:href=\"#m71bd8251b1\" x=\"303.146064\" y=\"281.511841\" style=\"fill: #ff7f0e; stroke: #333333\"/>\n",
       "     <use xlink:href=\"#m71bd8251b1\" x=\"97.002479\" y=\"76.810639\" style=\"fill: #ff7f0e; stroke: #333333\"/>\n",
       "     <use xlink:href=\"#m71bd8251b1\" x=\"250.332782\" y=\"271.625642\" style=\"fill: #ff7f0e; stroke: #333333\"/>\n",
       "     <use xlink:href=\"#m71bd8251b1\" x=\"83.612662\" y=\"91.748552\" style=\"fill: #ff7f0e; stroke: #333333\"/>\n",
       "     <use xlink:href=\"#m71bd8251b1\" x=\"94.999522\" y=\"100.771103\" style=\"fill: #ff7f0e; stroke: #333333\"/>\n",
       "     <use xlink:href=\"#m71bd8251b1\" x=\"100.767625\" y=\"83.242014\" style=\"fill: #ff7f0e; stroke: #333333\"/>\n",
       "     <use xlink:href=\"#m71bd8251b1\" x=\"263.978298\" y=\"235.621618\" style=\"fill: #ff7f0e; stroke: #333333\"/>\n",
       "     <use xlink:href=\"#m71bd8251b1\" x=\"265.878143\" y=\"241.778198\" style=\"fill: #ff7f0e; stroke: #333333\"/>\n",
       "     <use xlink:href=\"#m71bd8251b1\" x=\"86.267109\" y=\"60.124208\" style=\"fill: #ff7f0e; stroke: #333333\"/>\n",
       "     <use xlink:href=\"#m71bd8251b1\" x=\"266.83059\" y=\"257.799731\" style=\"fill: #ff7f0e; stroke: #333333\"/>\n",
       "     <use xlink:href=\"#m71bd8251b1\" x=\"120.495884\" y=\"74.915485\" style=\"fill: #ff7f0e; stroke: #333333\"/>\n",
       "     <use xlink:href=\"#m71bd8251b1\" x=\"107.535956\" y=\"68.331591\" style=\"fill: #ff7f0e; stroke: #333333\"/>\n",
       "     <use xlink:href=\"#m71bd8251b1\" x=\"106.966673\" y=\"76.735424\" style=\"fill: #ff7f0e; stroke: #333333\"/>\n",
       "     <use xlink:href=\"#m71bd8251b1\" x=\"260.006387\" y=\"233.520727\" style=\"fill: #ff7f0e; stroke: #333333\"/>\n",
       "     <use xlink:href=\"#m71bd8251b1\" x=\"261.351508\" y=\"274.295111\" style=\"fill: #ff7f0e; stroke: #333333\"/>\n",
       "     <use xlink:href=\"#m71bd8251b1\" x=\"75.099066\" y=\"79.6232\" style=\"fill: #ff7f0e; stroke: #333333\"/>\n",
       "     <use xlink:href=\"#m71bd8251b1\" x=\"100.505888\" y=\"93.19005\" style=\"fill: #ff7f0e; stroke: #333333\"/>\n",
       "     <use xlink:href=\"#m71bd8251b1\" x=\"294.93421\" y=\"227.318255\" style=\"fill: #ff7f0e; stroke: #333333\"/>\n",
       "     <use xlink:href=\"#m71bd8251b1\" x=\"104.827973\" y=\"80.430174\" style=\"fill: #ff7f0e; stroke: #333333\"/>\n",
       "     <use xlink:href=\"#m71bd8251b1\" x=\"286.371566\" y=\"242.681511\" style=\"fill: #ff7f0e; stroke: #333333\"/>\n",
       "     <use xlink:href=\"#m71bd8251b1\" x=\"256.010264\" y=\"264.369421\" style=\"fill: #ff7f0e; stroke: #333333\"/>\n",
       "     <use xlink:href=\"#m71bd8251b1\" x=\"108.367193\" y=\"87.969544\" style=\"fill: #ff7f0e; stroke: #333333\"/>\n",
       "     <use xlink:href=\"#m71bd8251b1\" x=\"266.186549\" y=\"249.941708\" style=\"fill: #ff7f0e; stroke: #333333\"/>\n",
       "     <use xlink:href=\"#m71bd8251b1\" x=\"126.534014\" y=\"53.27821\" style=\"fill: #ff7f0e; stroke: #333333\"/>\n",
       "     <use xlink:href=\"#m71bd8251b1\" x=\"264.76043\" y=\"205.602565\" style=\"fill: #ff7f0e; stroke: #333333\"/>\n",
       "     <use xlink:href=\"#m71bd8251b1\" x=\"289.115398\" y=\"221.60175\" style=\"fill: #ff7f0e; stroke: #333333\"/>\n",
       "     <use xlink:href=\"#m71bd8251b1\" x=\"117.84072\" y=\"70.589751\" style=\"fill: #ff7f0e; stroke: #333333\"/>\n",
       "     <use xlink:href=\"#m71bd8251b1\" x=\"151.934984\" y=\"90.59563\" style=\"fill: #ff7f0e; stroke: #333333\"/>\n",
       "     <use xlink:href=\"#m71bd8251b1\" x=\"101.969306\" y=\"97.050698\" style=\"fill: #ff7f0e; stroke: #333333\"/>\n",
       "     <use xlink:href=\"#m71bd8251b1\" x=\"255.361641\" y=\"255.911512\" style=\"fill: #ff7f0e; stroke: #333333\"/>\n",
       "     <use xlink:href=\"#m71bd8251b1\" x=\"115.770721\" y=\"100.508321\" style=\"fill: #ff7f0e; stroke: #333333\"/>\n",
       "     <use xlink:href=\"#m71bd8251b1\" x=\"77.601521\" y=\"76.132672\" style=\"fill: #ff7f0e; stroke: #333333\"/>\n",
       "     <use xlink:href=\"#m71bd8251b1\" x=\"81.45995\" y=\"57.769428\" style=\"fill: #ff7f0e; stroke: #333333\"/>\n",
       "     <use xlink:href=\"#m71bd8251b1\" x=\"280.107358\" y=\"275.502134\" style=\"fill: #ff7f0e; stroke: #333333\"/>\n",
       "     <use xlink:href=\"#m71bd8251b1\" x=\"104.701674\" y=\"54.997512\" style=\"fill: #ff7f0e; stroke: #333333\"/>\n",
       "     <use xlink:href=\"#m71bd8251b1\" x=\"102.290398\" y=\"74.278204\" style=\"fill: #ff7f0e; stroke: #333333\"/>\n",
       "     <use xlink:href=\"#m71bd8251b1\" x=\"260.631708\" y=\"230.544313\" style=\"fill: #ff7f0e; stroke: #333333\"/>\n",
       "     <use xlink:href=\"#m71bd8251b1\" x=\"82.318986\" y=\"72.7105\" style=\"fill: #ff7f0e; stroke: #333333\"/>\n",
       "     <use xlink:href=\"#m71bd8251b1\" x=\"80.518743\" y=\"66.484078\" style=\"fill: #ff7f0e; stroke: #333333\"/>\n",
       "     <use xlink:href=\"#m71bd8251b1\" x=\"280.683851\" y=\"270.372355\" style=\"fill: #ff7f0e; stroke: #333333\"/>\n",
       "     <use xlink:href=\"#m71bd8251b1\" x=\"276.250808\" y=\"279.8415\" style=\"fill: #ff7f0e; stroke: #333333\"/>\n",
       "     <use xlink:href=\"#m71bd8251b1\" x=\"277.603961\" y=\"207.455114\" style=\"fill: #ff7f0e; stroke: #333333\"/>\n",
       "     <use xlink:href=\"#m71bd8251b1\" x=\"123.541953\" y=\"105.813085\" style=\"fill: #ff7f0e; stroke: #333333\"/>\n",
       "     <use xlink:href=\"#m71bd8251b1\" x=\"104.739784\" y=\"61.169125\" style=\"fill: #ff7f0e; stroke: #333333\"/>\n",
       "     <use xlink:href=\"#m71bd8251b1\" x=\"86.98168\" y=\"89.521103\" style=\"fill: #ff7f0e; stroke: #333333\"/>\n",
       "     <use xlink:href=\"#m71bd8251b1\" x=\"93.417725\" y=\"75.58794\" style=\"fill: #ff7f0e; stroke: #333333\"/>\n",
       "     <use xlink:href=\"#m71bd8251b1\" x=\"314.602155\" y=\"266.40258\" style=\"fill: #ff7f0e; stroke: #333333\"/>\n",
       "     <use xlink:href=\"#m71bd8251b1\" x=\"293.733561\" y=\"254.720145\" style=\"fill: #ff7f0e; stroke: #333333\"/>\n",
       "     <use xlink:href=\"#m71bd8251b1\" x=\"284.761946\" y=\"277.376974\" style=\"fill: #ff7f0e; stroke: #333333\"/>\n",
       "     <use xlink:href=\"#m71bd8251b1\" x=\"268.543707\" y=\"278.576457\" style=\"fill: #ff7f0e; stroke: #333333\"/>\n",
       "     <use xlink:href=\"#m71bd8251b1\" x=\"93.992258\" y=\"87.766626\" style=\"fill: #ff7f0e; stroke: #333333\"/>\n",
       "     <use xlink:href=\"#m71bd8251b1\" x=\"133.931447\" y=\"75.530884\" style=\"fill: #ff7f0e; stroke: #333333\"/>\n",
       "     <use xlink:href=\"#m71bd8251b1\" x=\"305.146708\" y=\"265.192453\" style=\"fill: #ff7f0e; stroke: #333333\"/>\n",
       "     <use xlink:href=\"#m71bd8251b1\" x=\"250.30095\" y=\"245.631785\" style=\"fill: #ff7f0e; stroke: #333333\"/>\n",
       "     <use xlink:href=\"#m71bd8251b1\" x=\"288.923664\" y=\"250.283973\" style=\"fill: #ff7f0e; stroke: #333333\"/>\n",
       "     <use xlink:href=\"#m71bd8251b1\" x=\"101.288871\" y=\"83.986685\" style=\"fill: #ff7f0e; stroke: #333333\"/>\n",
       "     <use xlink:href=\"#m71bd8251b1\" x=\"272.77873\" y=\"257.056413\" style=\"fill: #ff7f0e; stroke: #333333\"/>\n",
       "    </g>\n",
       "   </g>\n",
       "   <g id=\"matplotlib.axis_1\">\n",
       "    <g id=\"xtick_1\">\n",
       "     <g id=\"line2d_1\">\n",
       "      <defs>\n",
       "       <path id=\"mb423c77063\" d=\"M 0 0 \n",
       "L 0 3.5 \n",
       "\" style=\"stroke: #000000; stroke-width: 0.8\"/>\n",
       "      </defs>\n",
       "      <g>\n",
       "       <use xlink:href=\"#mb423c77063\" x=\"65.587989\" y=\"299.518125\" style=\"stroke: #000000; stroke-width: 0.8\"/>\n",
       "      </g>\n",
       "     </g>\n",
       "     <g id=\"text_1\">\n",
       "      <!-- −0.2 -->\n",
       "      <g transform=\"translate(53.446583 314.116563) scale(0.1 -0.1)\">\n",
       "       <defs>\n",
       "        <path id=\"DejaVuSans-2212\" d=\"M 678 2272 \n",
       "L 4684 2272 \n",
       "L 4684 1741 \n",
       "L 678 1741 \n",
       "L 678 2272 \n",
       "z\n",
       "\" transform=\"scale(0.015625)\"/>\n",
       "        <path id=\"DejaVuSans-30\" d=\"M 2034 4250 \n",
       "Q 1547 4250 1301 3770 \n",
       "Q 1056 3291 1056 2328 \n",
       "Q 1056 1369 1301 889 \n",
       "Q 1547 409 2034 409 \n",
       "Q 2525 409 2770 889 \n",
       "Q 3016 1369 3016 2328 \n",
       "Q 3016 3291 2770 3770 \n",
       "Q 2525 4250 2034 4250 \n",
       "z\n",
       "M 2034 4750 \n",
       "Q 2819 4750 3233 4129 \n",
       "Q 3647 3509 3647 2328 \n",
       "Q 3647 1150 3233 529 \n",
       "Q 2819 -91 2034 -91 \n",
       "Q 1250 -91 836 529 \n",
       "Q 422 1150 422 2328 \n",
       "Q 422 3509 836 4129 \n",
       "Q 1250 4750 2034 4750 \n",
       "z\n",
       "\" transform=\"scale(0.015625)\"/>\n",
       "        <path id=\"DejaVuSans-2e\" d=\"M 684 794 \n",
       "L 1344 794 \n",
       "L 1344 0 \n",
       "L 684 0 \n",
       "L 684 794 \n",
       "z\n",
       "\" transform=\"scale(0.015625)\"/>\n",
       "        <path id=\"DejaVuSans-32\" d=\"M 1228 531 \n",
       "L 3431 531 \n",
       "L 3431 0 \n",
       "L 469 0 \n",
       "L 469 531 \n",
       "Q 828 903 1448 1529 \n",
       "Q 2069 2156 2228 2338 \n",
       "Q 2531 2678 2651 2914 \n",
       "Q 2772 3150 2772 3378 \n",
       "Q 2772 3750 2511 3984 \n",
       "Q 2250 4219 1831 4219 \n",
       "Q 1534 4219 1204 4116 \n",
       "Q 875 4013 500 3803 \n",
       "L 500 4441 \n",
       "Q 881 4594 1212 4672 \n",
       "Q 1544 4750 1819 4750 \n",
       "Q 2544 4750 2975 4387 \n",
       "Q 3406 4025 3406 3419 \n",
       "Q 3406 3131 3298 2873 \n",
       "Q 3191 2616 2906 2266 \n",
       "Q 2828 2175 2409 1742 \n",
       "Q 1991 1309 1228 531 \n",
       "z\n",
       "\" transform=\"scale(0.015625)\"/>\n",
       "       </defs>\n",
       "       <use xlink:href=\"#DejaVuSans-2212\"/>\n",
       "       <use xlink:href=\"#DejaVuSans-30\" x=\"83.789062\"/>\n",
       "       <use xlink:href=\"#DejaVuSans-2e\" x=\"147.412109\"/>\n",
       "       <use xlink:href=\"#DejaVuSans-32\" x=\"179.199219\"/>\n",
       "      </g>\n",
       "     </g>\n",
       "    </g>\n",
       "    <g id=\"xtick_2\">\n",
       "     <g id=\"line2d_2\">\n",
       "      <g>\n",
       "       <use xlink:href=\"#mb423c77063\" x=\"101.096984\" y=\"299.518125\" style=\"stroke: #000000; stroke-width: 0.8\"/>\n",
       "      </g>\n",
       "     </g>\n",
       "     <g id=\"text_2\">\n",
       "      <!-- 0.0 -->\n",
       "      <g transform=\"translate(93.145421 314.116563) scale(0.1 -0.1)\">\n",
       "       <use xlink:href=\"#DejaVuSans-30\"/>\n",
       "       <use xlink:href=\"#DejaVuSans-2e\" x=\"63.623047\"/>\n",
       "       <use xlink:href=\"#DejaVuSans-30\" x=\"95.410156\"/>\n",
       "      </g>\n",
       "     </g>\n",
       "    </g>\n",
       "    <g id=\"xtick_3\">\n",
       "     <g id=\"line2d_3\">\n",
       "      <g>\n",
       "       <use xlink:href=\"#mb423c77063\" x=\"136.605978\" y=\"299.518125\" style=\"stroke: #000000; stroke-width: 0.8\"/>\n",
       "      </g>\n",
       "     </g>\n",
       "     <g id=\"text_3\">\n",
       "      <!-- 0.2 -->\n",
       "      <g transform=\"translate(128.654416 314.116563) scale(0.1 -0.1)\">\n",
       "       <use xlink:href=\"#DejaVuSans-30\"/>\n",
       "       <use xlink:href=\"#DejaVuSans-2e\" x=\"63.623047\"/>\n",
       "       <use xlink:href=\"#DejaVuSans-32\" x=\"95.410156\"/>\n",
       "      </g>\n",
       "     </g>\n",
       "    </g>\n",
       "    <g id=\"xtick_4\">\n",
       "     <g id=\"line2d_4\">\n",
       "      <g>\n",
       "       <use xlink:href=\"#mb423c77063\" x=\"172.114973\" y=\"299.518125\" style=\"stroke: #000000; stroke-width: 0.8\"/>\n",
       "      </g>\n",
       "     </g>\n",
       "     <g id=\"text_4\">\n",
       "      <!-- 0.4 -->\n",
       "      <g transform=\"translate(164.16341 314.116563) scale(0.1 -0.1)\">\n",
       "       <defs>\n",
       "        <path id=\"DejaVuSans-34\" d=\"M 2419 4116 \n",
       "L 825 1625 \n",
       "L 2419 1625 \n",
       "L 2419 4116 \n",
       "z\n",
       "M 2253 4666 \n",
       "L 3047 4666 \n",
       "L 3047 1625 \n",
       "L 3713 1625 \n",
       "L 3713 1100 \n",
       "L 3047 1100 \n",
       "L 3047 0 \n",
       "L 2419 0 \n",
       "L 2419 1100 \n",
       "L 313 1100 \n",
       "L 313 1709 \n",
       "L 2253 4666 \n",
       "z\n",
       "\" transform=\"scale(0.015625)\"/>\n",
       "       </defs>\n",
       "       <use xlink:href=\"#DejaVuSans-30\"/>\n",
       "       <use xlink:href=\"#DejaVuSans-2e\" x=\"63.623047\"/>\n",
       "       <use xlink:href=\"#DejaVuSans-34\" x=\"95.410156\"/>\n",
       "      </g>\n",
       "     </g>\n",
       "    </g>\n",
       "    <g id=\"xtick_5\">\n",
       "     <g id=\"line2d_5\">\n",
       "      <g>\n",
       "       <use xlink:href=\"#mb423c77063\" x=\"207.623967\" y=\"299.518125\" style=\"stroke: #000000; stroke-width: 0.8\"/>\n",
       "      </g>\n",
       "     </g>\n",
       "     <g id=\"text_5\">\n",
       "      <!-- 0.6 -->\n",
       "      <g transform=\"translate(199.672405 314.116563) scale(0.1 -0.1)\">\n",
       "       <defs>\n",
       "        <path id=\"DejaVuSans-36\" d=\"M 2113 2584 \n",
       "Q 1688 2584 1439 2293 \n",
       "Q 1191 2003 1191 1497 \n",
       "Q 1191 994 1439 701 \n",
       "Q 1688 409 2113 409 \n",
       "Q 2538 409 2786 701 \n",
       "Q 3034 994 3034 1497 \n",
       "Q 3034 2003 2786 2293 \n",
       "Q 2538 2584 2113 2584 \n",
       "z\n",
       "M 3366 4563 \n",
       "L 3366 3988 \n",
       "Q 3128 4100 2886 4159 \n",
       "Q 2644 4219 2406 4219 \n",
       "Q 1781 4219 1451 3797 \n",
       "Q 1122 3375 1075 2522 \n",
       "Q 1259 2794 1537 2939 \n",
       "Q 1816 3084 2150 3084 \n",
       "Q 2853 3084 3261 2657 \n",
       "Q 3669 2231 3669 1497 \n",
       "Q 3669 778 3244 343 \n",
       "Q 2819 -91 2113 -91 \n",
       "Q 1303 -91 875 529 \n",
       "Q 447 1150 447 2328 \n",
       "Q 447 3434 972 4092 \n",
       "Q 1497 4750 2381 4750 \n",
       "Q 2619 4750 2861 4703 \n",
       "Q 3103 4656 3366 4563 \n",
       "z\n",
       "\" transform=\"scale(0.015625)\"/>\n",
       "       </defs>\n",
       "       <use xlink:href=\"#DejaVuSans-30\"/>\n",
       "       <use xlink:href=\"#DejaVuSans-2e\" x=\"63.623047\"/>\n",
       "       <use xlink:href=\"#DejaVuSans-36\" x=\"95.410156\"/>\n",
       "      </g>\n",
       "     </g>\n",
       "    </g>\n",
       "    <g id=\"xtick_6\">\n",
       "     <g id=\"line2d_6\">\n",
       "      <g>\n",
       "       <use xlink:href=\"#mb423c77063\" x=\"243.132962\" y=\"299.518125\" style=\"stroke: #000000; stroke-width: 0.8\"/>\n",
       "      </g>\n",
       "     </g>\n",
       "     <g id=\"text_6\">\n",
       "      <!-- 0.8 -->\n",
       "      <g transform=\"translate(235.181399 314.116563) scale(0.1 -0.1)\">\n",
       "       <defs>\n",
       "        <path id=\"DejaVuSans-38\" d=\"M 2034 2216 \n",
       "Q 1584 2216 1326 1975 \n",
       "Q 1069 1734 1069 1313 \n",
       "Q 1069 891 1326 650 \n",
       "Q 1584 409 2034 409 \n",
       "Q 2484 409 2743 651 \n",
       "Q 3003 894 3003 1313 \n",
       "Q 3003 1734 2745 1975 \n",
       "Q 2488 2216 2034 2216 \n",
       "z\n",
       "M 1403 2484 \n",
       "Q 997 2584 770 2862 \n",
       "Q 544 3141 544 3541 \n",
       "Q 544 4100 942 4425 \n",
       "Q 1341 4750 2034 4750 \n",
       "Q 2731 4750 3128 4425 \n",
       "Q 3525 4100 3525 3541 \n",
       "Q 3525 3141 3298 2862 \n",
       "Q 3072 2584 2669 2484 \n",
       "Q 3125 2378 3379 2068 \n",
       "Q 3634 1759 3634 1313 \n",
       "Q 3634 634 3220 271 \n",
       "Q 2806 -91 2034 -91 \n",
       "Q 1263 -91 848 271 \n",
       "Q 434 634 434 1313 \n",
       "Q 434 1759 690 2068 \n",
       "Q 947 2378 1403 2484 \n",
       "z\n",
       "M 1172 3481 \n",
       "Q 1172 3119 1398 2916 \n",
       "Q 1625 2713 2034 2713 \n",
       "Q 2441 2713 2670 2916 \n",
       "Q 2900 3119 2900 3481 \n",
       "Q 2900 3844 2670 4047 \n",
       "Q 2441 4250 2034 4250 \n",
       "Q 1625 4250 1398 4047 \n",
       "Q 1172 3844 1172 3481 \n",
       "z\n",
       "\" transform=\"scale(0.015625)\"/>\n",
       "       </defs>\n",
       "       <use xlink:href=\"#DejaVuSans-30\"/>\n",
       "       <use xlink:href=\"#DejaVuSans-2e\" x=\"63.623047\"/>\n",
       "       <use xlink:href=\"#DejaVuSans-38\" x=\"95.410156\"/>\n",
       "      </g>\n",
       "     </g>\n",
       "    </g>\n",
       "    <g id=\"xtick_7\">\n",
       "     <g id=\"line2d_7\">\n",
       "      <g>\n",
       "       <use xlink:href=\"#mb423c77063\" x=\"278.641956\" y=\"299.518125\" style=\"stroke: #000000; stroke-width: 0.8\"/>\n",
       "      </g>\n",
       "     </g>\n",
       "     <g id=\"text_7\">\n",
       "      <!-- 1.0 -->\n",
       "      <g transform=\"translate(270.690394 314.116563) scale(0.1 -0.1)\">\n",
       "       <defs>\n",
       "        <path id=\"DejaVuSans-31\" d=\"M 794 531 \n",
       "L 1825 531 \n",
       "L 1825 4091 \n",
       "L 703 3866 \n",
       "L 703 4441 \n",
       "L 1819 4666 \n",
       "L 2450 4666 \n",
       "L 2450 531 \n",
       "L 3481 531 \n",
       "L 3481 0 \n",
       "L 794 0 \n",
       "L 794 531 \n",
       "z\n",
       "\" transform=\"scale(0.015625)\"/>\n",
       "       </defs>\n",
       "       <use xlink:href=\"#DejaVuSans-31\"/>\n",
       "       <use xlink:href=\"#DejaVuSans-2e\" x=\"63.623047\"/>\n",
       "       <use xlink:href=\"#DejaVuSans-30\" x=\"95.410156\"/>\n",
       "      </g>\n",
       "     </g>\n",
       "    </g>\n",
       "    <g id=\"xtick_8\">\n",
       "     <g id=\"line2d_8\">\n",
       "      <g>\n",
       "       <use xlink:href=\"#mb423c77063\" x=\"314.150951\" y=\"299.518125\" style=\"stroke: #000000; stroke-width: 0.8\"/>\n",
       "      </g>\n",
       "     </g>\n",
       "     <g id=\"text_8\">\n",
       "      <!-- 1.2 -->\n",
       "      <g transform=\"translate(306.199388 314.116563) scale(0.1 -0.1)\">\n",
       "       <use xlink:href=\"#DejaVuSans-31\"/>\n",
       "       <use xlink:href=\"#DejaVuSans-2e\" x=\"63.623047\"/>\n",
       "       <use xlink:href=\"#DejaVuSans-32\" x=\"95.410156\"/>\n",
       "      </g>\n",
       "     </g>\n",
       "    </g>\n",
       "    <g id=\"text_9\">\n",
       "     <!-- $x_2$ -->\n",
       "     <g transform=\"translate(186.310937 327.794688) scale(0.1 -0.1)\">\n",
       "      <defs>\n",
       "       <path id=\"DejaVuSans-Oblique-78\" d=\"M 3841 3500 \n",
       "L 2234 1784 \n",
       "L 3219 0 \n",
       "L 2559 0 \n",
       "L 1819 1388 \n",
       "L 531 0 \n",
       "L -166 0 \n",
       "L 1556 1844 \n",
       "L 641 3500 \n",
       "L 1300 3500 \n",
       "L 1972 2234 \n",
       "L 3144 3500 \n",
       "L 3841 3500 \n",
       "z\n",
       "\" transform=\"scale(0.015625)\"/>\n",
       "      </defs>\n",
       "      <use xlink:href=\"#DejaVuSans-Oblique-78\" transform=\"translate(0 0.3125)\"/>\n",
       "      <use xlink:href=\"#DejaVuSans-32\" transform=\"translate(59.179688 -16.09375) scale(0.7)\"/>\n",
       "     </g>\n",
       "    </g>\n",
       "   </g>\n",
       "   <g id=\"matplotlib.axis_2\">\n",
       "    <g id=\"ytick_1\">\n",
       "     <g id=\"line2d_9\">\n",
       "      <defs>\n",
       "       <path id=\"m9a144ddfaf\" d=\"M 0 0 \n",
       "L -3.5 0 \n",
       "\" style=\"stroke: #000000; stroke-width: 0.8\"/>\n",
       "      </defs>\n",
       "      <g>\n",
       "       <use xlink:href=\"#m9a144ddfaf\" x=\"52.160938\" y=\"289.597484\" style=\"stroke: #000000; stroke-width: 0.8\"/>\n",
       "      </g>\n",
       "     </g>\n",
       "     <g id=\"text_10\">\n",
       "      <!-- −0.2 -->\n",
       "      <g transform=\"translate(20.878125 293.396703) scale(0.1 -0.1)\">\n",
       "       <use xlink:href=\"#DejaVuSans-2212\"/>\n",
       "       <use xlink:href=\"#DejaVuSans-30\" x=\"83.789062\"/>\n",
       "       <use xlink:href=\"#DejaVuSans-2e\" x=\"147.412109\"/>\n",
       "       <use xlink:href=\"#DejaVuSans-32\" x=\"179.199219\"/>\n",
       "      </g>\n",
       "     </g>\n",
       "    </g>\n",
       "    <g id=\"ytick_2\">\n",
       "     <g id=\"line2d_10\">\n",
       "      <g>\n",
       "       <use xlink:href=\"#m9a144ddfaf\" x=\"52.160938\" y=\"254.025772\" style=\"stroke: #000000; stroke-width: 0.8\"/>\n",
       "      </g>\n",
       "     </g>\n",
       "     <g id=\"text_11\">\n",
       "      <!-- 0.0 -->\n",
       "      <g transform=\"translate(29.257812 257.824991) scale(0.1 -0.1)\">\n",
       "       <use xlink:href=\"#DejaVuSans-30\"/>\n",
       "       <use xlink:href=\"#DejaVuSans-2e\" x=\"63.623047\"/>\n",
       "       <use xlink:href=\"#DejaVuSans-30\" x=\"95.410156\"/>\n",
       "      </g>\n",
       "     </g>\n",
       "    </g>\n",
       "    <g id=\"ytick_3\">\n",
       "     <g id=\"line2d_11\">\n",
       "      <g>\n",
       "       <use xlink:href=\"#m9a144ddfaf\" x=\"52.160938\" y=\"218.45406\" style=\"stroke: #000000; stroke-width: 0.8\"/>\n",
       "      </g>\n",
       "     </g>\n",
       "     <g id=\"text_12\">\n",
       "      <!-- 0.2 -->\n",
       "      <g transform=\"translate(29.257812 222.253278) scale(0.1 -0.1)\">\n",
       "       <use xlink:href=\"#DejaVuSans-30\"/>\n",
       "       <use xlink:href=\"#DejaVuSans-2e\" x=\"63.623047\"/>\n",
       "       <use xlink:href=\"#DejaVuSans-32\" x=\"95.410156\"/>\n",
       "      </g>\n",
       "     </g>\n",
       "    </g>\n",
       "    <g id=\"ytick_4\">\n",
       "     <g id=\"line2d_12\">\n",
       "      <g>\n",
       "       <use xlink:href=\"#m9a144ddfaf\" x=\"52.160938\" y=\"182.882347\" style=\"stroke: #000000; stroke-width: 0.8\"/>\n",
       "      </g>\n",
       "     </g>\n",
       "     <g id=\"text_13\">\n",
       "      <!-- 0.4 -->\n",
       "      <g transform=\"translate(29.257812 186.681566) scale(0.1 -0.1)\">\n",
       "       <use xlink:href=\"#DejaVuSans-30\"/>\n",
       "       <use xlink:href=\"#DejaVuSans-2e\" x=\"63.623047\"/>\n",
       "       <use xlink:href=\"#DejaVuSans-34\" x=\"95.410156\"/>\n",
       "      </g>\n",
       "     </g>\n",
       "    </g>\n",
       "    <g id=\"ytick_5\">\n",
       "     <g id=\"line2d_13\">\n",
       "      <g>\n",
       "       <use xlink:href=\"#m9a144ddfaf\" x=\"52.160938\" y=\"147.310635\" style=\"stroke: #000000; stroke-width: 0.8\"/>\n",
       "      </g>\n",
       "     </g>\n",
       "     <g id=\"text_14\">\n",
       "      <!-- 0.6 -->\n",
       "      <g transform=\"translate(29.257812 151.109854) scale(0.1 -0.1)\">\n",
       "       <use xlink:href=\"#DejaVuSans-30\"/>\n",
       "       <use xlink:href=\"#DejaVuSans-2e\" x=\"63.623047\"/>\n",
       "       <use xlink:href=\"#DejaVuSans-36\" x=\"95.410156\"/>\n",
       "      </g>\n",
       "     </g>\n",
       "    </g>\n",
       "    <g id=\"ytick_6\">\n",
       "     <g id=\"line2d_14\">\n",
       "      <g>\n",
       "       <use xlink:href=\"#m9a144ddfaf\" x=\"52.160938\" y=\"111.738923\" style=\"stroke: #000000; stroke-width: 0.8\"/>\n",
       "      </g>\n",
       "     </g>\n",
       "     <g id=\"text_15\">\n",
       "      <!-- 0.8 -->\n",
       "      <g transform=\"translate(29.257812 115.538141) scale(0.1 -0.1)\">\n",
       "       <use xlink:href=\"#DejaVuSans-30\"/>\n",
       "       <use xlink:href=\"#DejaVuSans-2e\" x=\"63.623047\"/>\n",
       "       <use xlink:href=\"#DejaVuSans-38\" x=\"95.410156\"/>\n",
       "      </g>\n",
       "     </g>\n",
       "    </g>\n",
       "    <g id=\"ytick_7\">\n",
       "     <g id=\"line2d_15\">\n",
       "      <g>\n",
       "       <use xlink:href=\"#m9a144ddfaf\" x=\"52.160938\" y=\"76.16721\" style=\"stroke: #000000; stroke-width: 0.8\"/>\n",
       "      </g>\n",
       "     </g>\n",
       "     <g id=\"text_16\">\n",
       "      <!-- 1.0 -->\n",
       "      <g transform=\"translate(29.257812 79.966429) scale(0.1 -0.1)\">\n",
       "       <use xlink:href=\"#DejaVuSans-31\"/>\n",
       "       <use xlink:href=\"#DejaVuSans-2e\" x=\"63.623047\"/>\n",
       "       <use xlink:href=\"#DejaVuSans-30\" x=\"95.410156\"/>\n",
       "      </g>\n",
       "     </g>\n",
       "    </g>\n",
       "    <g id=\"ytick_8\">\n",
       "     <g id=\"line2d_16\">\n",
       "      <g>\n",
       "       <use xlink:href=\"#m9a144ddfaf\" x=\"52.160938\" y=\"40.595498\" style=\"stroke: #000000; stroke-width: 0.8\"/>\n",
       "      </g>\n",
       "     </g>\n",
       "     <g id=\"text_17\">\n",
       "      <!-- 1.2 -->\n",
       "      <g transform=\"translate(29.257812 44.394717) scale(0.1 -0.1)\">\n",
       "       <use xlink:href=\"#DejaVuSans-31\"/>\n",
       "       <use xlink:href=\"#DejaVuSans-2e\" x=\"63.623047\"/>\n",
       "       <use xlink:href=\"#DejaVuSans-32\" x=\"95.410156\"/>\n",
       "      </g>\n",
       "     </g>\n",
       "    </g>\n",
       "    <g id=\"text_18\">\n",
       "     <!-- $x_1$ -->\n",
       "     <g transform=\"translate(14.798438 166.268125) rotate(-90) scale(0.1 -0.1)\">\n",
       "      <use xlink:href=\"#DejaVuSans-Oblique-78\" transform=\"translate(0 0.3125)\"/>\n",
       "      <use xlink:href=\"#DejaVuSans-31\" transform=\"translate(59.179688 -16.09375) scale(0.7)\"/>\n",
       "     </g>\n",
       "    </g>\n",
       "   </g>\n",
       "   <g id=\"patch_3\">\n",
       "    <path d=\"M 52.160938 299.518125 \n",
       "L 52.160938 22.318125 \n",
       "\" style=\"fill: none; stroke: #000000; stroke-width: 0.8; stroke-linejoin: miter; stroke-linecap: square\"/>\n",
       "   </g>\n",
       "   <g id=\"patch_4\">\n",
       "    <path d=\"M 331.160937 299.518125 \n",
       "L 331.160937 22.318125 \n",
       "\" style=\"fill: none; stroke: #000000; stroke-width: 0.8; stroke-linejoin: miter; stroke-linecap: square\"/>\n",
       "   </g>\n",
       "   <g id=\"patch_5\">\n",
       "    <path d=\"M 52.160937 299.518125 \n",
       "L 331.160937 299.518125 \n",
       "\" style=\"fill: none; stroke: #000000; stroke-width: 0.8; stroke-linejoin: miter; stroke-linecap: square\"/>\n",
       "   </g>\n",
       "   <g id=\"patch_6\">\n",
       "    <path d=\"M 52.160937 22.318125 \n",
       "L 331.160937 22.318125 \n",
       "\" style=\"fill: none; stroke: #000000; stroke-width: 0.8; stroke-linejoin: miter; stroke-linecap: square\"/>\n",
       "   </g>\n",
       "   <g id=\"text_19\">\n",
       "    <!-- Dataset Samples -->\n",
       "    <g transform=\"translate(140.634687 16.318125) scale(0.12 -0.12)\">\n",
       "     <defs>\n",
       "      <path id=\"DejaVuSans-44\" d=\"M 1259 4147 \n",
       "L 1259 519 \n",
       "L 2022 519 \n",
       "Q 2988 519 3436 956 \n",
       "Q 3884 1394 3884 2338 \n",
       "Q 3884 3275 3436 3711 \n",
       "Q 2988 4147 2022 4147 \n",
       "L 1259 4147 \n",
       "z\n",
       "M 628 4666 \n",
       "L 1925 4666 \n",
       "Q 3281 4666 3915 4102 \n",
       "Q 4550 3538 4550 2338 \n",
       "Q 4550 1131 3912 565 \n",
       "Q 3275 0 1925 0 \n",
       "L 628 0 \n",
       "L 628 4666 \n",
       "z\n",
       "\" transform=\"scale(0.015625)\"/>\n",
       "      <path id=\"DejaVuSans-61\" d=\"M 2194 1759 \n",
       "Q 1497 1759 1228 1600 \n",
       "Q 959 1441 959 1056 \n",
       "Q 959 750 1161 570 \n",
       "Q 1363 391 1709 391 \n",
       "Q 2188 391 2477 730 \n",
       "Q 2766 1069 2766 1631 \n",
       "L 2766 1759 \n",
       "L 2194 1759 \n",
       "z\n",
       "M 3341 1997 \n",
       "L 3341 0 \n",
       "L 2766 0 \n",
       "L 2766 531 \n",
       "Q 2569 213 2275 61 \n",
       "Q 1981 -91 1556 -91 \n",
       "Q 1019 -91 701 211 \n",
       "Q 384 513 384 1019 \n",
       "Q 384 1609 779 1909 \n",
       "Q 1175 2209 1959 2209 \n",
       "L 2766 2209 \n",
       "L 2766 2266 \n",
       "Q 2766 2663 2505 2880 \n",
       "Q 2244 3097 1772 3097 \n",
       "Q 1472 3097 1187 3025 \n",
       "Q 903 2953 641 2809 \n",
       "L 641 3341 \n",
       "Q 956 3463 1253 3523 \n",
       "Q 1550 3584 1831 3584 \n",
       "Q 2591 3584 2966 3190 \n",
       "Q 3341 2797 3341 1997 \n",
       "z\n",
       "\" transform=\"scale(0.015625)\"/>\n",
       "      <path id=\"DejaVuSans-74\" d=\"M 1172 4494 \n",
       "L 1172 3500 \n",
       "L 2356 3500 \n",
       "L 2356 3053 \n",
       "L 1172 3053 \n",
       "L 1172 1153 \n",
       "Q 1172 725 1289 603 \n",
       "Q 1406 481 1766 481 \n",
       "L 2356 481 \n",
       "L 2356 0 \n",
       "L 1766 0 \n",
       "Q 1100 0 847 248 \n",
       "Q 594 497 594 1153 \n",
       "L 594 3053 \n",
       "L 172 3053 \n",
       "L 172 3500 \n",
       "L 594 3500 \n",
       "L 594 4494 \n",
       "L 1172 4494 \n",
       "z\n",
       "\" transform=\"scale(0.015625)\"/>\n",
       "      <path id=\"DejaVuSans-73\" d=\"M 2834 3397 \n",
       "L 2834 2853 \n",
       "Q 2591 2978 2328 3040 \n",
       "Q 2066 3103 1784 3103 \n",
       "Q 1356 3103 1142 2972 \n",
       "Q 928 2841 928 2578 \n",
       "Q 928 2378 1081 2264 \n",
       "Q 1234 2150 1697 2047 \n",
       "L 1894 2003 \n",
       "Q 2506 1872 2764 1633 \n",
       "Q 3022 1394 3022 966 \n",
       "Q 3022 478 2636 193 \n",
       "Q 2250 -91 1575 -91 \n",
       "Q 1294 -91 989 -36 \n",
       "Q 684 19 347 128 \n",
       "L 347 722 \n",
       "Q 666 556 975 473 \n",
       "Q 1284 391 1588 391 \n",
       "Q 1994 391 2212 530 \n",
       "Q 2431 669 2431 922 \n",
       "Q 2431 1156 2273 1281 \n",
       "Q 2116 1406 1581 1522 \n",
       "L 1381 1569 \n",
       "Q 847 1681 609 1914 \n",
       "Q 372 2147 372 2553 \n",
       "Q 372 3047 722 3315 \n",
       "Q 1072 3584 1716 3584 \n",
       "Q 2034 3584 2315 3537 \n",
       "Q 2597 3491 2834 3397 \n",
       "z\n",
       "\" transform=\"scale(0.015625)\"/>\n",
       "      <path id=\"DejaVuSans-65\" d=\"M 3597 1894 \n",
       "L 3597 1613 \n",
       "L 953 1613 \n",
       "Q 991 1019 1311 708 \n",
       "Q 1631 397 2203 397 \n",
       "Q 2534 397 2845 478 \n",
       "Q 3156 559 3463 722 \n",
       "L 3463 178 \n",
       "Q 3153 47 2828 -22 \n",
       "Q 2503 -91 2169 -91 \n",
       "Q 1331 -91 842 396 \n",
       "Q 353 884 353 1716 \n",
       "Q 353 2575 817 3079 \n",
       "Q 1281 3584 2069 3584 \n",
       "Q 2775 3584 3186 3129 \n",
       "Q 3597 2675 3597 1894 \n",
       "z\n",
       "M 3022 2063 \n",
       "Q 3016 2534 2758 2815 \n",
       "Q 2500 3097 2075 3097 \n",
       "Q 1594 3097 1305 2825 \n",
       "Q 1016 2553 972 2059 \n",
       "L 3022 2063 \n",
       "z\n",
       "\" transform=\"scale(0.015625)\"/>\n",
       "      <path id=\"DejaVuSans-20\" transform=\"scale(0.015625)\"/>\n",
       "      <path id=\"DejaVuSans-53\" d=\"M 3425 4513 \n",
       "L 3425 3897 \n",
       "Q 3066 4069 2747 4153 \n",
       "Q 2428 4238 2131 4238 \n",
       "Q 1616 4238 1336 4038 \n",
       "Q 1056 3838 1056 3469 \n",
       "Q 1056 3159 1242 3001 \n",
       "Q 1428 2844 1947 2747 \n",
       "L 2328 2669 \n",
       "Q 3034 2534 3370 2195 \n",
       "Q 3706 1856 3706 1288 \n",
       "Q 3706 609 3251 259 \n",
       "Q 2797 -91 1919 -91 \n",
       "Q 1588 -91 1214 -16 \n",
       "Q 841 59 441 206 \n",
       "L 441 856 \n",
       "Q 825 641 1194 531 \n",
       "Q 1563 422 1919 422 \n",
       "Q 2459 422 2753 634 \n",
       "Q 3047 847 3047 1241 \n",
       "Q 3047 1584 2836 1778 \n",
       "Q 2625 1972 2144 2069 \n",
       "L 1759 2144 \n",
       "Q 1053 2284 737 2584 \n",
       "Q 422 2884 422 3419 \n",
       "Q 422 4038 858 4394 \n",
       "Q 1294 4750 2059 4750 \n",
       "Q 2388 4750 2728 4690 \n",
       "Q 3069 4631 3425 4513 \n",
       "z\n",
       "\" transform=\"scale(0.015625)\"/>\n",
       "      <path id=\"DejaVuSans-6d\" d=\"M 3328 2828 \n",
       "Q 3544 3216 3844 3400 \n",
       "Q 4144 3584 4550 3584 \n",
       "Q 5097 3584 5394 3201 \n",
       "Q 5691 2819 5691 2113 \n",
       "L 5691 0 \n",
       "L 5113 0 \n",
       "L 5113 2094 \n",
       "Q 5113 2597 4934 2840 \n",
       "Q 4756 3084 4391 3084 \n",
       "Q 3944 3084 3684 2787 \n",
       "Q 3425 2491 3425 1978 \n",
       "L 3425 0 \n",
       "L 2847 0 \n",
       "L 2847 2094 \n",
       "Q 2847 2600 2669 2842 \n",
       "Q 2491 3084 2119 3084 \n",
       "Q 1678 3084 1418 2786 \n",
       "Q 1159 2488 1159 1978 \n",
       "L 1159 0 \n",
       "L 581 0 \n",
       "L 581 3500 \n",
       "L 1159 3500 \n",
       "L 1159 2956 \n",
       "Q 1356 3278 1631 3431 \n",
       "Q 1906 3584 2284 3584 \n",
       "Q 2666 3584 2933 3390 \n",
       "Q 3200 3197 3328 2828 \n",
       "z\n",
       "\" transform=\"scale(0.015625)\"/>\n",
       "      <path id=\"DejaVuSans-70\" d=\"M 1159 525 \n",
       "L 1159 -1331 \n",
       "L 581 -1331 \n",
       "L 581 3500 \n",
       "L 1159 3500 \n",
       "L 1159 2969 \n",
       "Q 1341 3281 1617 3432 \n",
       "Q 1894 3584 2278 3584 \n",
       "Q 2916 3584 3314 3078 \n",
       "Q 3713 2572 3713 1747 \n",
       "Q 3713 922 3314 415 \n",
       "Q 2916 -91 2278 -91 \n",
       "Q 1894 -91 1617 61 \n",
       "Q 1341 213 1159 525 \n",
       "z\n",
       "M 3116 1747 \n",
       "Q 3116 2381 2855 2742 \n",
       "Q 2594 3103 2138 3103 \n",
       "Q 1681 3103 1420 2742 \n",
       "Q 1159 2381 1159 1747 \n",
       "Q 1159 1113 1420 752 \n",
       "Q 1681 391 2138 391 \n",
       "Q 2594 391 2855 752 \n",
       "Q 3116 1113 3116 1747 \n",
       "z\n",
       "\" transform=\"scale(0.015625)\"/>\n",
       "      <path id=\"DejaVuSans-6c\" d=\"M 603 4863 \n",
       "L 1178 4863 \n",
       "L 1178 0 \n",
       "L 603 0 \n",
       "L 603 4863 \n",
       "z\n",
       "\" transform=\"scale(0.015625)\"/>\n",
       "     </defs>\n",
       "     <use xlink:href=\"#DejaVuSans-44\"/>\n",
       "     <use xlink:href=\"#DejaVuSans-61\" x=\"77.001953\"/>\n",
       "     <use xlink:href=\"#DejaVuSans-74\" x=\"138.28125\"/>\n",
       "     <use xlink:href=\"#DejaVuSans-61\" x=\"177.490234\"/>\n",
       "     <use xlink:href=\"#DejaVuSans-73\" x=\"238.769531\"/>\n",
       "     <use xlink:href=\"#DejaVuSans-65\" x=\"290.869141\"/>\n",
       "     <use xlink:href=\"#DejaVuSans-74\" x=\"352.392578\"/>\n",
       "     <use xlink:href=\"#DejaVuSans-20\" x=\"391.601562\"/>\n",
       "     <use xlink:href=\"#DejaVuSans-53\" x=\"423.388672\"/>\n",
       "     <use xlink:href=\"#DejaVuSans-61\" x=\"486.865234\"/>\n",
       "     <use xlink:href=\"#DejaVuSans-6d\" x=\"548.144531\"/>\n",
       "     <use xlink:href=\"#DejaVuSans-70\" x=\"645.556641\"/>\n",
       "     <use xlink:href=\"#DejaVuSans-6c\" x=\"709.033203\"/>\n",
       "     <use xlink:href=\"#DejaVuSans-65\" x=\"736.816406\"/>\n",
       "     <use xlink:href=\"#DejaVuSans-73\" x=\"798.339844\"/>\n",
       "    </g>\n",
       "   </g>\n",
       "   <g id=\"legend_1\">\n",
       "    <g id=\"patch_7\">\n",
       "     <path d=\"M 256.3125 177.09625 \n",
       "L 324.160937 177.09625 \n",
       "Q 326.160937 177.09625 326.160937 175.09625 \n",
       "L 326.160937 146.74 \n",
       "Q 326.160937 144.74 324.160937 144.74 \n",
       "L 256.3125 144.74 \n",
       "Q 254.3125 144.74 254.3125 146.74 \n",
       "L 254.3125 175.09625 \n",
       "Q 254.3125 177.09625 256.3125 177.09625 \n",
       "z\n",
       "\" style=\"fill: #ffffff; opacity: 0.8; stroke: #cccccc; stroke-linejoin: miter\"/>\n",
       "    </g>\n",
       "    <g id=\"PathCollection_3\">\n",
       "     <g>\n",
       "      <use xlink:href=\"#me9957ef456\" x=\"268.3125\" y=\"153.713438\" style=\"fill: #1f77b4; stroke: #333333\"/>\n",
       "     </g>\n",
       "    </g>\n",
       "    <g id=\"text_20\">\n",
       "     <!-- Class 0 -->\n",
       "     <g transform=\"translate(286.3125 156.338438) scale(0.1 -0.1)\">\n",
       "      <defs>\n",
       "       <path id=\"DejaVuSans-43\" d=\"M 4122 4306 \n",
       "L 4122 3641 \n",
       "Q 3803 3938 3442 4084 \n",
       "Q 3081 4231 2675 4231 \n",
       "Q 1875 4231 1450 3742 \n",
       "Q 1025 3253 1025 2328 \n",
       "Q 1025 1406 1450 917 \n",
       "Q 1875 428 2675 428 \n",
       "Q 3081 428 3442 575 \n",
       "Q 3803 722 4122 1019 \n",
       "L 4122 359 \n",
       "Q 3791 134 3420 21 \n",
       "Q 3050 -91 2638 -91 \n",
       "Q 1578 -91 968 557 \n",
       "Q 359 1206 359 2328 \n",
       "Q 359 3453 968 4101 \n",
       "Q 1578 4750 2638 4750 \n",
       "Q 3056 4750 3426 4639 \n",
       "Q 3797 4528 4122 4306 \n",
       "z\n",
       "\" transform=\"scale(0.015625)\"/>\n",
       "      </defs>\n",
       "      <use xlink:href=\"#DejaVuSans-43\"/>\n",
       "      <use xlink:href=\"#DejaVuSans-6c\" x=\"69.824219\"/>\n",
       "      <use xlink:href=\"#DejaVuSans-61\" x=\"97.607422\"/>\n",
       "      <use xlink:href=\"#DejaVuSans-73\" x=\"158.886719\"/>\n",
       "      <use xlink:href=\"#DejaVuSans-73\" x=\"210.986328\"/>\n",
       "      <use xlink:href=\"#DejaVuSans-20\" x=\"263.085938\"/>\n",
       "      <use xlink:href=\"#DejaVuSans-30\" x=\"294.873047\"/>\n",
       "     </g>\n",
       "    </g>\n",
       "    <g id=\"PathCollection_4\">\n",
       "     <g>\n",
       "      <use xlink:href=\"#m71bd8251b1\" x=\"268.3125\" y=\"168.391563\" style=\"fill: #ff7f0e; stroke: #333333\"/>\n",
       "     </g>\n",
       "    </g>\n",
       "    <g id=\"text_21\">\n",
       "     <!-- Class 1 -->\n",
       "     <g transform=\"translate(286.3125 171.016563) scale(0.1 -0.1)\">\n",
       "      <use xlink:href=\"#DejaVuSans-43\"/>\n",
       "      <use xlink:href=\"#DejaVuSans-6c\" x=\"69.824219\"/>\n",
       "      <use xlink:href=\"#DejaVuSans-61\" x=\"97.607422\"/>\n",
       "      <use xlink:href=\"#DejaVuSans-73\" x=\"158.886719\"/>\n",
       "      <use xlink:href=\"#DejaVuSans-73\" x=\"210.986328\"/>\n",
       "      <use xlink:href=\"#DejaVuSans-20\" x=\"263.085938\"/>\n",
       "      <use xlink:href=\"#DejaVuSans-31\" x=\"294.873047\"/>\n",
       "     </g>\n",
       "    </g>\n",
       "   </g>\n",
       "  </g>\n",
       " </g>\n",
       " <defs>\n",
       "  <clipPath id=\"pceb4a93a00\">\n",
       "   <rect x=\"52.160938\" y=\"22.318125\" width=\"279\" height=\"277.2\"/>\n",
       "  </clipPath>\n",
       " </defs>\n",
       "</svg>\n"
      ],
      "text/plain": [
       "<Figure size 500x500 with 1 Axes>"
      ]
     },
     "metadata": {},
     "output_type": "display_data"
    }
   ],
   "source": [
    "visualize_samples(dataset.data, dataset.label)\n",
    "plt.show()"
   ]
  },
  {
   "cell_type": "code",
   "execution_count": 55,
   "metadata": {},
   "outputs": [],
   "source": [
    "data_loader = torch.utils.data.DataLoader(\n",
    "    dataset,\n",
    "    batch_size=8,\n",
    "    shuffle=True\n",
    ")"
   ]
  },
  {
   "cell_type": "code",
   "execution_count": 56,
   "metadata": {},
   "outputs": [
    {
     "data": {
      "text/plain": [
       "[tensor([[ 0.1272, -0.0325],\n",
       "         [-0.0168,  1.0069],\n",
       "         [ 0.9930,  1.0873],\n",
       "         [ 0.8689, -0.0106],\n",
       "         [ 0.0184,  0.9321],\n",
       "         [ 0.8534,  0.0337],\n",
       "         [ 0.0210,  0.9760],\n",
       "         [ 0.9584,  0.9628]]),\n",
       " tensor([0, 1, 0, 1, 1, 1, 1, 0], dtype=torch.int8)]"
      ]
     },
     "execution_count": 56,
     "metadata": {},
     "output_type": "execute_result"
    }
   ],
   "source": [
    "next(iter(data_loader))"
   ]
  },
  {
   "cell_type": "markdown",
   "metadata": {},
   "source": [
    "### Optimization"
   ]
  },
  {
   "cell_type": "code",
   "execution_count": 57,
   "metadata": {},
   "outputs": [],
   "source": [
    "loss_module = nn.BCEWithLogitsLoss()"
   ]
  },
  {
   "cell_type": "code",
   "execution_count": 58,
   "metadata": {},
   "outputs": [],
   "source": [
    "optimizer = torch.optim.SGD(model.parameters(), lr=0.05)"
   ]
  },
  {
   "cell_type": "code",
   "execution_count": 59,
   "metadata": {},
   "outputs": [],
   "source": [
    "train_dataset = XORDataset(size=1000)\n",
    "train_data_loader = data.DataLoader(train_dataset, batch_size=128, shuffle=True)"
   ]
  },
  {
   "cell_type": "code",
   "execution_count": 60,
   "metadata": {},
   "outputs": [
    {
     "data": {
      "text/plain": [
       "SimpleClassifier(\n",
       "  (linear1): Linear(in_features=2, out_features=8, bias=True)\n",
       "  (linear2): Linear(in_features=8, out_features=1, bias=True)\n",
       "  (act_fn): Tanh()\n",
       ")"
      ]
     },
     "execution_count": 60,
     "metadata": {},
     "output_type": "execute_result"
    }
   ],
   "source": [
    "model.to(device)"
   ]
  },
  {
   "cell_type": "code",
   "execution_count": 61,
   "metadata": {},
   "outputs": [],
   "source": [
    "def train_model(model, optimizer, data_loader, loss_module, num_epochs=100):\n",
    "    model.train()\n",
    "\n",
    "    for epoch in tqdm(range(num_epochs)):\n",
    "        for data_inputs, data_labels in data_loader:\n",
    "            # Step 1: move data into the appropriate device\n",
    "            data_inputs = data_inputs.to(device)\n",
    "            data_labels = data_labels.to(device)\n",
    "\n",
    "            # Step 2: Run the model on input data\n",
    "            preds = model(data_inputs)\n",
    "            preds = preds.squeeze(dim=1)\n",
    "\n",
    "            # Step 3: Calculate the loss\n",
    "            loss = loss_module(preds, data_labels.float())\n",
    "\n",
    "            # Step 4: Perform backpropagation\n",
    "            # ensure gradients are zero\n",
    "            optimizer.zero_grad()\n",
    "            # perform backpropagation\n",
    "            loss.backward()\n",
    "\n",
    "            # Step 5: Update the parameters\n",
    "            optimizer.step()"
   ]
  },
  {
   "cell_type": "code",
   "execution_count": 62,
   "metadata": {},
   "outputs": [
    {
     "data": {
      "application/vnd.jupyter.widget-view+json": {
       "model_id": "1b6ea8b4f4874e56bead02600ed106ce",
       "version_major": 2,
       "version_minor": 0
      },
      "text/plain": [
       "  0%|          | 0/100 [00:00<?, ?it/s]"
      ]
     },
     "metadata": {},
     "output_type": "display_data"
    }
   ],
   "source": [
    "train_model(model, optimizer, train_data_loader, loss_module)"
   ]
  },
  {
   "cell_type": "markdown",
   "metadata": {},
   "source": [
    "### Saving the model"
   ]
  },
  {
   "cell_type": "code",
   "execution_count": 63,
   "metadata": {},
   "outputs": [
    {
     "name": "stdout",
     "output_type": "stream",
     "text": [
      "OrderedDict([('linear1.weight', tensor([[ 0.1104, -0.1428],\n",
      "        [ 1.3334, -0.7257],\n",
      "        [-0.4074, -0.6611],\n",
      "        [ 1.2638,  1.2890],\n",
      "        [ 0.7731, -0.9983],\n",
      "        [ 0.2185, -0.4798],\n",
      "        [-1.1272,  1.4642],\n",
      "        [-0.6206,  0.6337]], device='cuda:0')), ('linear1.bias', tensor([ 0.0728,  0.2709,  0.1375,  0.0285, -0.6629, -0.4028,  0.7064, -0.4304],\n",
      "       device='cuda:0')), ('linear2.weight', tensor([[ 0.1045, -1.1166, -0.2091,  1.5834,  0.5965,  0.2237, -1.2063,  0.4438]],\n",
      "       device='cuda:0')), ('linear2.bias', tensor([0.2320], device='cuda:0'))])\n"
     ]
    }
   ],
   "source": [
    "state_dict = model.state_dict() # extract learnable parameters\n",
    "print(state_dict)"
   ]
  },
  {
   "cell_type": "code",
   "execution_count": 64,
   "metadata": {},
   "outputs": [],
   "source": [
    "torch.save(state_dict, \"models/model_xor_continuous.tar\")"
   ]
  },
  {
   "cell_type": "code",
   "execution_count": 65,
   "metadata": {},
   "outputs": [
    {
     "name": "stdout",
     "output_type": "stream",
     "text": [
      "Original model\n",
      " OrderedDict([('linear1.weight', tensor([[ 0.1104, -0.1428],\n",
      "        [ 1.3334, -0.7257],\n",
      "        [-0.4074, -0.6611],\n",
      "        [ 1.2638,  1.2890],\n",
      "        [ 0.7731, -0.9983],\n",
      "        [ 0.2185, -0.4798],\n",
      "        [-1.1272,  1.4642],\n",
      "        [-0.6206,  0.6337]], device='cuda:0')), ('linear1.bias', tensor([ 0.0728,  0.2709,  0.1375,  0.0285, -0.6629, -0.4028,  0.7064, -0.4304],\n",
      "       device='cuda:0')), ('linear2.weight', tensor([[ 0.1045, -1.1166, -0.2091,  1.5834,  0.5965,  0.2237, -1.2063,  0.4438]],\n",
      "       device='cuda:0')), ('linear2.bias', tensor([0.2320], device='cuda:0'))])\n",
      "\n",
      "Loaded model\n",
      " OrderedDict([('linear1.weight', tensor([[ 0.1104, -0.1428],\n",
      "        [ 1.3334, -0.7257],\n",
      "        [-0.4074, -0.6611],\n",
      "        [ 1.2638,  1.2890],\n",
      "        [ 0.7731, -0.9983],\n",
      "        [ 0.2185, -0.4798],\n",
      "        [-1.1272,  1.4642],\n",
      "        [-0.6206,  0.6337]])), ('linear1.bias', tensor([ 0.0728,  0.2709,  0.1375,  0.0285, -0.6629, -0.4028,  0.7064, -0.4304])), ('linear2.weight', tensor([[ 0.1045, -1.1166, -0.2091,  1.5834,  0.5965,  0.2237, -1.2063,  0.4438]])), ('linear2.bias', tensor([0.2320]))])\n"
     ]
    }
   ],
   "source": [
    "state_dict = torch.load(\"models/model_xor_continuous.tar\")\n",
    "\n",
    "# Create a new model and load the state\n",
    "new_model = SimpleClassifier(2, 8, 1)\n",
    "new_model.load_state_dict(state_dict)\n",
    "\n",
    "# Verify that the parameters are the same\n",
    "print(\"Original model\\n\", model.state_dict())\n",
    "print(\"\\nLoaded model\\n\", new_model.state_dict())"
   ]
  },
  {
   "cell_type": "markdown",
   "metadata": {},
   "source": [
    "### Evaluation"
   ]
  },
  {
   "cell_type": "code",
   "execution_count": 66,
   "metadata": {},
   "outputs": [],
   "source": [
    "test_dataset = XORDataset(size=500)\n",
    "# drop_last -> Don't drop the last batch although it is smaller than 128\n",
    "test_data_loader = data.DataLoader(test_dataset, batch_size=128, shuffle=False, drop_last=False)"
   ]
  },
  {
   "cell_type": "code",
   "execution_count": 67,
   "metadata": {},
   "outputs": [],
   "source": [
    "def eval_model(model, data_loader):\n",
    "    model.eval()\n",
    "    true_preds = 0.0\n",
    "    num_preds = 0.0\n",
    "    \n",
    "    with torch.no_grad():\n",
    "        for data_inputs, data_labels in data_loader:\n",
    "            data_inputs = data_inputs.to(device)\n",
    "            data_labels = data_labels.to(device)\n",
    "\n",
    "            preds = model(data_inputs)\n",
    "            preds = preds.squeeze(dim=1)\n",
    "            preds = torch.sigmoid(preds)\n",
    "            pred_labels = (preds >= 0.5)\n",
    "\n",
    "            true_preds += (pred_labels == data_labels).sum()\n",
    "            num_preds += data_labels.shape[0]\n",
    "        acc = true_preds / num_preds\n",
    "    return acc"
   ]
  },
  {
   "cell_type": "code",
   "execution_count": 68,
   "metadata": {},
   "outputs": [
    {
     "name": "stdout",
     "output_type": "stream",
     "text": [
      "Accuracy of the model: 100.00%\n"
     ]
    }
   ],
   "source": [
    "acc = eval_model(model, test_data_loader)\n",
    "print(f\"Accuracy of the model: {100.0*acc:4.2f}%\")"
   ]
  },
  {
   "cell_type": "markdown",
   "metadata": {},
   "source": [
    "### Visualizing the result"
   ]
  },
  {
   "cell_type": "code",
   "execution_count": 69,
   "metadata": {},
   "outputs": [
    {
     "name": "stderr",
     "output_type": "stream",
     "text": [
      "c:\\Users\\hanzh\\miniconda3\\envs\\ENV_AI\\Lib\\site-packages\\torch\\functional.py:504: UserWarning: torch.meshgrid: in an upcoming release, it will be required to pass the indexing argument. (Triggered internally at ..\\aten\\src\\ATen\\native\\TensorShape.cpp:3527.)\n",
      "  return _VF.meshgrid(tensors, **kwargs)  # type: ignore[attr-defined]\n"
     ]
    },
    {
     "data": {
      "application/pdf": "[encoded data removed]",
      "image/svg+xml": [
       "<?xml version=\"1.0\" encoding=\"utf-8\" standalone=\"no\"?>\n",
       "<!DOCTYPE svg PUBLIC \"-//W3C//DTD SVG 1.1//EN\"\n",
       "  \"http://www.w3.org/Graphics/SVG/1.1/DTD/svg11.dtd\">\n",
       "<svg xmlns:xlink=\"http://www.w3.org/1999/xlink\" width=\"295.435pt\" height=\"281.634375pt\" viewBox=\"0 0 295.435 281.634375\" xmlns=\"http://www.w3.org/2000/svg\" version=\"1.1\">\n",
       " <metadata>\n",
       "  <rdf:RDF xmlns:dc=\"http://purl.org/dc/elements/1.1/\" xmlns:cc=\"http://creativecommons.org/ns#\" xmlns:rdf=\"http://www.w3.org/1999/02/22-rdf-syntax-ns#\">\n",
       "   <cc:Work>\n",
       "    <dc:type rdf:resource=\"http://purl.org/dc/dcmitype/StillImage\"/>\n",
       "    <dc:date>2024-05-24T17:12:22.695194</dc:date>\n",
       "    <dc:format>image/svg+xml</dc:format>\n",
       "    <dc:creator>\n",
       "     <cc:Agent>\n",
       "      <dc:title>Matplotlib v3.9.0, https://matplotlib.org/</dc:title>\n",
       "     </cc:Agent>\n",
       "    </dc:creator>\n",
       "   </cc:Work>\n",
       "  </rdf:RDF>\n",
       " </metadata>\n",
       " <defs>\n",
       "  <style type=\"text/css\">*{stroke-linejoin: round; stroke-linecap: butt}</style>\n",
       " </defs>\n",
       " <g id=\"figure_1\">\n",
       "  <g id=\"patch_1\">\n",
       "   <path d=\"M 0 281.634375 \n",
       "L 295.435 281.634375 \n",
       "L 295.435 0 \n",
       "L 0 0 \n",
       "z\n",
       "\" style=\"fill: #ffffff\"/>\n",
       "  </g>\n",
       "  <g id=\"axes_1\">\n",
       "   <g id=\"patch_2\">\n",
       "    <path d=\"M 58.523438 244.078125 \n",
       "L 280.283437 244.078125 \n",
       "L 280.283437 22.318125 \n",
       "L 58.523438 22.318125 \n",
       "z\n",
       "\" style=\"fill: #ffffff\"/>\n",
       "   </g>\n",
       "   <g clip-path=\"url(#p2518e6a4c4)\">\n",
       "    <image xlink:href=\"data:image/png;base64,\n",
       "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\" id=\"image56862cf3cc\" transform=\"scale(1 -1) translate(0 -221.76)\" x=\"58.523438\" y=\"-22.318125\" width=\"221.76\" height=\"221.76\"/>\n",
       "   </g>\n",
       "   <g id=\"PathCollection_1\">\n",
       "    <defs>\n",
       "     <path id=\"m7181927add\" d=\"M 0 3 \n",
       "C 0.795609 3 1.55874 2.683901 2.12132 2.12132 \n",
       "C 2.683901 1.55874 3 0.795609 3 0 \n",
       "C 3 -0.795609 2.683901 -1.55874 2.12132 -2.12132 \n",
       "C 1.55874 -2.683901 0.795609 -3 0 -3 \n",
       "C -0.795609 -3 -1.55874 -2.683901 -2.12132 -2.12132 \n",
       "C -2.683901 -1.55874 -3 -0.795609 -3 0 \n",
       "C -3 0.795609 -2.683901 1.55874 -2.12132 2.12132 \n",
       "C -1.55874 2.683901 -0.795609 3 0 3 \n",
       "z\n",
       "\" style=\"stroke: #333333\"/>\n",
       "    </defs>\n",
       "    <g clip-path=\"url(#p2518e6a4c4)\">\n",
       "     <use xlink:href=\"#m7181927add\" x=\"118.523665\" y=\"183.093089\" style=\"fill: #1f77b4; stroke: #333333\"/>\n",
       "     <use xlink:href=\"#m7181927add\" x=\"220.333184\" y=\"70.455842\" style=\"fill: #1f77b4; stroke: #333333\"/>\n",
       "     <use xlink:href=\"#m7181927add\" x=\"211.856052\" y=\"65.745343\" style=\"fill: #1f77b4; stroke: #333333\"/>\n",
       "     <use xlink:href=\"#m7181927add\" x=\"93.617452\" y=\"193.695009\" style=\"fill: #1f77b4; stroke: #333333\"/>\n",
       "     <use xlink:href=\"#m7181927add\" x=\"101.412033\" y=\"200.984991\" style=\"fill: #1f77b4; stroke: #333333\"/>\n",
       "     <use xlink:href=\"#m7181927add\" x=\"111.631417\" y=\"188.247046\" style=\"fill: #1f77b4; stroke: #333333\"/>\n",
       "     <use xlink:href=\"#m7181927add\" x=\"128.862824\" y=\"180.426769\" style=\"fill: #1f77b4; stroke: #333333\"/>\n",
       "     <use xlink:href=\"#m7181927add\" x=\"221.708304\" y=\"75.219543\" style=\"fill: #1f77b4; stroke: #333333\"/>\n",
       "     <use xlink:href=\"#m7181927add\" x=\"224.064551\" y=\"68.076748\" style=\"fill: #1f77b4; stroke: #333333\"/>\n",
       "     <use xlink:href=\"#m7181927add\" x=\"220.809756\" y=\"82.48656\" style=\"fill: #1f77b4; stroke: #333333\"/>\n",
       "     <use xlink:href=\"#m7181927add\" x=\"211.458318\" y=\"63.082804\" style=\"fill: #1f77b4; stroke: #333333\"/>\n",
       "     <use xlink:href=\"#m7181927add\" x=\"101.912682\" y=\"183.844251\" style=\"fill: #1f77b4; stroke: #333333\"/>\n",
       "     <use xlink:href=\"#m7181927add\" x=\"225.451978\" y=\"78.85253\" style=\"fill: #1f77b4; stroke: #333333\"/>\n",
       "     <use xlink:href=\"#m7181927add\" x=\"101.098651\" y=\"183.322946\" style=\"fill: #1f77b4; stroke: #333333\"/>\n",
       "     <use xlink:href=\"#m7181927add\" x=\"120.826893\" y=\"188.865792\" style=\"fill: #1f77b4; stroke: #333333\"/>\n",
       "     <use xlink:href=\"#m7181927add\" x=\"127.211806\" y=\"187.334639\" style=\"fill: #1f77b4; stroke: #333333\"/>\n",
       "     <use xlink:href=\"#m7181927add\" x=\"220.228808\" y=\"81.878311\" style=\"fill: #1f77b4; stroke: #333333\"/>\n",
       "     <use xlink:href=\"#m7181927add\" x=\"112.959389\" y=\"195.548473\" style=\"fill: #1f77b4; stroke: #333333\"/>\n",
       "     <use xlink:href=\"#m7181927add\" x=\"97.465016\" y=\"189.90958\" style=\"fill: #1f77b4; stroke: #333333\"/>\n",
       "     <use xlink:href=\"#m7181927add\" x=\"93.967969\" y=\"175.41679\" style=\"fill: #1f77b4; stroke: #333333\"/>\n",
       "     <use xlink:href=\"#m7181927add\" x=\"228.602735\" y=\"66.506009\" style=\"fill: #1f77b4; stroke: #333333\"/>\n",
       "     <use xlink:href=\"#m7181927add\" x=\"126.716727\" y=\"194.114503\" style=\"fill: #1f77b4; stroke: #333333\"/>\n",
       "     <use xlink:href=\"#m7181927add\" x=\"108.739721\" y=\"192.275709\" style=\"fill: #1f77b4; stroke: #333333\"/>\n",
       "     <use xlink:href=\"#m7181927add\" x=\"102.81717\" y=\"183.518206\" style=\"fill: #1f77b4; stroke: #333333\"/>\n",
       "     <use xlink:href=\"#m7181927add\" x=\"211.155654\" y=\"89.076305\" style=\"fill: #1f77b4; stroke: #333333\"/>\n",
       "     <use xlink:href=\"#m7181927add\" x=\"108.365464\" y=\"181.076791\" style=\"fill: #1f77b4; stroke: #333333\"/>\n",
       "     <use xlink:href=\"#m7181927add\" x=\"210.517585\" y=\"83.087335\" style=\"fill: #1f77b4; stroke: #333333\"/>\n",
       "     <use xlink:href=\"#m7181927add\" x=\"230.660277\" y=\"72.816749\" style=\"fill: #1f77b4; stroke: #333333\"/>\n",
       "     <use xlink:href=\"#m7181927add\" x=\"226.197178\" y=\"70.025942\" style=\"fill: #1f77b4; stroke: #333333\"/>\n",
       "     <use xlink:href=\"#m7181927add\" x=\"226.47223\" y=\"74.959256\" style=\"fill: #1f77b4; stroke: #333333\"/>\n",
       "     <use xlink:href=\"#m7181927add\" x=\"111.543424\" y=\"173.855886\" style=\"fill: #1f77b4; stroke: #333333\"/>\n",
       "     <use xlink:href=\"#m7181927add\" x=\"115.15996\" y=\"208.368224\" style=\"fill: #1f77b4; stroke: #333333\"/>\n",
       "     <use xlink:href=\"#m7181927add\" x=\"113.778474\" y=\"185.561876\" style=\"fill: #1f77b4; stroke: #333333\"/>\n",
       "     <use xlink:href=\"#m7181927add\" x=\"112.585078\" y=\"193.297202\" style=\"fill: #1f77b4; stroke: #333333\"/>\n",
       "     <use xlink:href=\"#m7181927add\" x=\"214.265012\" y=\"86.494533\" style=\"fill: #1f77b4; stroke: #333333\"/>\n",
       "     <use xlink:href=\"#m7181927add\" x=\"207.017108\" y=\"69.32608\" style=\"fill: #1f77b4; stroke: #333333\"/>\n",
       "     <use xlink:href=\"#m7181927add\" x=\"122.458067\" y=\"200.281329\" style=\"fill: #1f77b4; stroke: #333333\"/>\n",
       "     <use xlink:href=\"#m7181927add\" x=\"118.592741\" y=\"194.459777\" style=\"fill: #1f77b4; stroke: #333333\"/>\n",
       "     <use xlink:href=\"#m7181927add\" x=\"120.307881\" y=\"202.280111\" style=\"fill: #1f77b4; stroke: #333333\"/>\n",
       "     <use xlink:href=\"#m7181927add\" x=\"208.46147\" y=\"93.260618\" style=\"fill: #1f77b4; stroke: #333333\"/>\n",
       "     <use xlink:href=\"#m7181927add\" x=\"249.722456\" y=\"64.15413\" style=\"fill: #1f77b4; stroke: #333333\"/>\n",
       "     <use xlink:href=\"#m7181927add\" x=\"225.247285\" y=\"68.364211\" style=\"fill: #1f77b4; stroke: #333333\"/>\n",
       "     <use xlink:href=\"#m7181927add\" x=\"107.517457\" y=\"182.676161\" style=\"fill: #1f77b4; stroke: #333333\"/>\n",
       "     <use xlink:href=\"#m7181927add\" x=\"212.147507\" y=\"81.2603\" style=\"fill: #1f77b4; stroke: #333333\"/>\n",
       "     <use xlink:href=\"#m7181927add\" x=\"228.840935\" y=\"85.099348\" style=\"fill: #1f77b4; stroke: #333333\"/>\n",
       "     <use xlink:href=\"#m7181927add\" x=\"233.001052\" y=\"77.92477\" style=\"fill: #1f77b4; stroke: #333333\"/>\n",
       "     <use xlink:href=\"#m7181927add\" x=\"223.487754\" y=\"77.265757\" style=\"fill: #1f77b4; stroke: #333333\"/>\n",
       "     <use xlink:href=\"#m7181927add\" x=\"210.058143\" y=\"89.997806\" style=\"fill: #1f77b4; stroke: #333333\"/>\n",
       "     <use xlink:href=\"#m7181927add\" x=\"213.555309\" y=\"73.198681\" style=\"fill: #1f77b4; stroke: #333333\"/>\n",
       "     <use xlink:href=\"#m7181927add\" x=\"118.379452\" y=\"198.841589\" style=\"fill: #1f77b4; stroke: #333333\"/>\n",
       "     <use xlink:href=\"#m7181927add\" x=\"242.116584\" y=\"82.060461\" style=\"fill: #1f77b4; stroke: #333333\"/>\n",
       "     <use xlink:href=\"#m7181927add\" x=\"243.193184\" y=\"78.004124\" style=\"fill: #1f77b4; stroke: #333333\"/>\n",
       "     <use xlink:href=\"#m7181927add\" x=\"223.378078\" y=\"68.310956\" style=\"fill: #1f77b4; stroke: #333333\"/>\n",
       "     <use xlink:href=\"#m7181927add\" x=\"107.836278\" y=\"173.162263\" style=\"fill: #1f77b4; stroke: #333333\"/>\n",
       "     <use xlink:href=\"#m7181927add\" x=\"128.068789\" y=\"192.238338\" style=\"fill: #1f77b4; stroke: #333333\"/>\n",
       "     <use xlink:href=\"#m7181927add\" x=\"219.403891\" y=\"90.954949\" style=\"fill: #1f77b4; stroke: #333333\"/>\n",
       "     <use xlink:href=\"#m7181927add\" x=\"106.5919\" y=\"174.089636\" style=\"fill: #1f77b4; stroke: #333333\"/>\n",
       "     <use xlink:href=\"#m7181927add\" x=\"239.687142\" y=\"85.92104\" style=\"fill: #1f77b4; stroke: #333333\"/>\n",
       "     <use xlink:href=\"#m7181927add\" x=\"103.473695\" y=\"184.78223\" style=\"fill: #1f77b4; stroke: #333333\"/>\n",
       "     <use xlink:href=\"#m7181927add\" x=\"103.614123\" y=\"186.711885\" style=\"fill: #1f77b4; stroke: #333333\"/>\n",
       "     <use xlink:href=\"#m7181927add\" x=\"226.809207\" y=\"84.317085\" style=\"fill: #1f77b4; stroke: #333333\"/>\n",
       "     <use xlink:href=\"#m7181927add\" x=\"208.47755\" y=\"66.610932\" style=\"fill: #1f77b4; stroke: #333333\"/>\n",
       "     <use xlink:href=\"#m7181927add\" x=\"217.375897\" y=\"63.936404\" style=\"fill: #1f77b4; stroke: #333333\"/>\n",
       "     <use xlink:href=\"#m7181927add\" x=\"122.264117\" y=\"206.469472\" style=\"fill: #1f77b4; stroke: #333333\"/>\n",
       "     <use xlink:href=\"#m7181927add\" x=\"233.053898\" y=\"80.713085\" style=\"fill: #1f77b4; stroke: #333333\"/>\n",
       "     <use xlink:href=\"#m7181927add\" x=\"105.970909\" y=\"183.249488\" style=\"fill: #1f77b4; stroke: #333333\"/>\n",
       "     <use xlink:href=\"#m7181927add\" x=\"130.45761\" y=\"203.053802\" style=\"fill: #1f77b4; stroke: #333333\"/>\n",
       "     <use xlink:href=\"#m7181927add\" x=\"226.041814\" y=\"84.655642\" style=\"fill: #1f77b4; stroke: #333333\"/>\n",
       "     <use xlink:href=\"#m7181927add\" x=\"230.38808\" y=\"85.46021\" style=\"fill: #1f77b4; stroke: #333333\"/>\n",
       "     <use xlink:href=\"#m7181927add\" x=\"229.005828\" y=\"64.163435\" style=\"fill: #1f77b4; stroke: #333333\"/>\n",
       "     <use xlink:href=\"#m7181927add\" x=\"111.451809\" y=\"181.651341\" style=\"fill: #1f77b4; stroke: #333333\"/>\n",
       "     <use xlink:href=\"#m7181927add\" x=\"111.311665\" y=\"205.138649\" style=\"fill: #1f77b4; stroke: #333333\"/>\n",
       "     <use xlink:href=\"#m7181927add\" x=\"114.081403\" y=\"196.122144\" style=\"fill: #1f77b4; stroke: #333333\"/>\n",
       "     <use xlink:href=\"#m7181927add\" x=\"215.031652\" y=\"70.066799\" style=\"fill: #1f77b4; stroke: #333333\"/>\n",
       "     <use xlink:href=\"#m7181927add\" x=\"234.183819\" y=\"81.07252\" style=\"fill: #1f77b4; stroke: #333333\"/>\n",
       "     <use xlink:href=\"#m7181927add\" x=\"221.758393\" y=\"81.399346\" style=\"fill: #1f77b4; stroke: #333333\"/>\n",
       "     <use xlink:href=\"#m7181927add\" x=\"102.730327\" y=\"174.537529\" style=\"fill: #1f77b4; stroke: #333333\"/>\n",
       "     <use xlink:href=\"#m7181927add\" x=\"233.084643\" y=\"63.197707\" style=\"fill: #1f77b4; stroke: #333333\"/>\n",
       "     <use xlink:href=\"#m7181927add\" x=\"236.192996\" y=\"67.960152\" style=\"fill: #1f77b4; stroke: #333333\"/>\n",
       "     <use xlink:href=\"#m7181927add\" x=\"113.843888\" y=\"183.718658\" style=\"fill: #1f77b4; stroke: #333333\"/>\n",
       "     <use xlink:href=\"#m7181927add\" x=\"113.538109\" y=\"194.699571\" style=\"fill: #1f77b4; stroke: #333333\"/>\n",
       "     <use xlink:href=\"#m7181927add\" x=\"107.577709\" y=\"178.291616\" style=\"fill: #1f77b4; stroke: #333333\"/>\n",
       "     <use xlink:href=\"#m7181927add\" x=\"214.240394\" y=\"71.934756\" style=\"fill: #1f77b4; stroke: #333333\"/>\n",
       "     <use xlink:href=\"#m7181927add\" x=\"121.436069\" y=\"172.471473\" style=\"fill: #1f77b4; stroke: #333333\"/>\n",
       "     <use xlink:href=\"#m7181927add\" x=\"108.913546\" y=\"189.003449\" style=\"fill: #1f77b4; stroke: #333333\"/>\n",
       "     <use xlink:href=\"#m7181927add\" x=\"91.49962\" y=\"180.694215\" style=\"fill: #1f77b4; stroke: #333333\"/>\n",
       "     <use xlink:href=\"#m7181927add\" x=\"110.991967\" y=\"197.202356\" style=\"fill: #1f77b4; stroke: #333333\"/>\n",
       "     <use xlink:href=\"#m7181927add\" x=\"101.083759\" y=\"180.631023\" style=\"fill: #1f77b4; stroke: #333333\"/>\n",
       "     <use xlink:href=\"#m7181927add\" x=\"100.281171\" y=\"209.143768\" style=\"fill: #1f77b4; stroke: #333333\"/>\n",
       "     <use xlink:href=\"#m7181927add\" x=\"123.838006\" y=\"208.738643\" style=\"fill: #1f77b4; stroke: #333333\"/>\n",
       "     <use xlink:href=\"#m7181927add\" x=\"116.169075\" y=\"167.317926\" style=\"fill: #1f77b4; stroke: #333333\"/>\n",
       "     <use xlink:href=\"#m7181927add\" x=\"214.581648\" y=\"65.839759\" style=\"fill: #1f77b4; stroke: #333333\"/>\n",
       "     <use xlink:href=\"#m7181927add\" x=\"140.082961\" y=\"188.334336\" style=\"fill: #1f77b4; stroke: #333333\"/>\n",
       "    </g>\n",
       "   </g>\n",
       "   <g id=\"PathCollection_2\">\n",
       "    <defs>\n",
       "     <path id=\"me3c8198e1d\" d=\"M 0 3 \n",
       "C 0.795609 3 1.55874 2.683901 2.12132 2.12132 \n",
       "C 2.683901 1.55874 3 0.795609 3 0 \n",
       "C 3 -0.795609 2.683901 -1.55874 2.12132 -2.12132 \n",
       "C 1.55874 -2.683901 0.795609 -3 0 -3 \n",
       "C -0.795609 -3 -1.55874 -2.683901 -2.12132 -2.12132 \n",
       "C -2.683901 -1.55874 -3 -0.795609 -3 0 \n",
       "C -3 0.795609 -2.683901 1.55874 -2.12132 2.12132 \n",
       "C -1.55874 2.683901 -0.795609 3 0 3 \n",
       "z\n",
       "\" style=\"stroke: #333333\"/>\n",
       "    </defs>\n",
       "    <g clip-path=\"url(#p2518e6a4c4)\">\n",
       "     <use xlink:href=\"#me3c8198e1d\" x=\"227.579006\" y=\"174.632169\" style=\"fill: #ff7f0e; stroke: #333333\"/>\n",
       "     <use xlink:href=\"#me3c8198e1d\" x=\"202.779005\" y=\"188.426869\" style=\"fill: #ff7f0e; stroke: #333333\"/>\n",
       "     <use xlink:href=\"#me3c8198e1d\" x=\"227.164677\" y=\"169.913927\" style=\"fill: #ff7f0e; stroke: #333333\"/>\n",
       "     <use xlink:href=\"#me3c8198e1d\" x=\"216.082471\" y=\"183.304188\" style=\"fill: #ff7f0e; stroke: #333333\"/>\n",
       "     <use xlink:href=\"#me3c8198e1d\" x=\"98.282039\" y=\"78.256077\" style=\"fill: #ff7f0e; stroke: #333333\"/>\n",
       "     <use xlink:href=\"#me3c8198e1d\" x=\"216.819344\" y=\"191.110687\" style=\"fill: #ff7f0e; stroke: #333333\"/>\n",
       "     <use xlink:href=\"#me3c8198e1d\" x=\"131.128763\" y=\"72.524738\" style=\"fill: #ff7f0e; stroke: #333333\"/>\n",
       "     <use xlink:href=\"#me3c8198e1d\" x=\"233.913671\" y=\"180.378248\" style=\"fill: #ff7f0e; stroke: #333333\"/>\n",
       "     <use xlink:href=\"#me3c8198e1d\" x=\"132.684559\" y=\"72.053321\" style=\"fill: #ff7f0e; stroke: #333333\"/>\n",
       "     <use xlink:href=\"#me3c8198e1d\" x=\"208.585197\" y=\"184.898109\" style=\"fill: #ff7f0e; stroke: #333333\"/>\n",
       "     <use xlink:href=\"#me3c8198e1d\" x=\"228.431298\" y=\"202.447972\" style=\"fill: #ff7f0e; stroke: #333333\"/>\n",
       "     <use xlink:href=\"#me3c8198e1d\" x=\"239.437852\" y=\"181.967572\" style=\"fill: #ff7f0e; stroke: #333333\"/>\n",
       "     <use xlink:href=\"#me3c8198e1d\" x=\"100.727672\" y=\"97.610822\" style=\"fill: #ff7f0e; stroke: #333333\"/>\n",
       "     <use xlink:href=\"#me3c8198e1d\" x=\"97.734118\" y=\"56.17226\" style=\"fill: #ff7f0e; stroke: #333333\"/>\n",
       "     <use xlink:href=\"#me3c8198e1d\" x=\"211.274721\" y=\"194.02371\" style=\"fill: #ff7f0e; stroke: #333333\"/>\n",
       "     <use xlink:href=\"#me3c8198e1d\" x=\"115.054574\" y=\"96.821666\" style=\"fill: #ff7f0e; stroke: #333333\"/>\n",
       "     <use xlink:href=\"#me3c8198e1d\" x=\"116.080281\" y=\"64.151803\" style=\"fill: #ff7f0e; stroke: #333333\"/>\n",
       "     <use xlink:href=\"#me3c8198e1d\" x=\"112.101568\" y=\"76.992926\" style=\"fill: #ff7f0e; stroke: #333333\"/>\n",
       "     <use xlink:href=\"#me3c8198e1d\" x=\"91.322026\" y=\"76.813585\" style=\"fill: #ff7f0e; stroke: #333333\"/>\n",
       "     <use xlink:href=\"#me3c8198e1d\" x=\"105.251017\" y=\"93.412221\" style=\"fill: #ff7f0e; stroke: #333333\"/>\n",
       "     <use xlink:href=\"#me3c8198e1d\" x=\"222.288664\" y=\"203.972705\" style=\"fill: #ff7f0e; stroke: #333333\"/>\n",
       "     <use xlink:href=\"#me3c8198e1d\" x=\"217.327897\" y=\"191.95931\" style=\"fill: #ff7f0e; stroke: #333333\"/>\n",
       "     <use xlink:href=\"#me3c8198e1d\" x=\"224.075899\" y=\"192.426566\" style=\"fill: #ff7f0e; stroke: #333333\"/>\n",
       "     <use xlink:href=\"#me3c8198e1d\" x=\"211.406557\" y=\"175.975262\" style=\"fill: #ff7f0e; stroke: #333333\"/>\n",
       "     <use xlink:href=\"#me3c8198e1d\" x=\"93.248074\" y=\"71.792029\" style=\"fill: #ff7f0e; stroke: #333333\"/>\n",
       "     <use xlink:href=\"#me3c8198e1d\" x=\"209.017595\" y=\"184.559579\" style=\"fill: #ff7f0e; stroke: #333333\"/>\n",
       "     <use xlink:href=\"#me3c8198e1d\" x=\"104.537342\" y=\"65.99355\" style=\"fill: #ff7f0e; stroke: #333333\"/>\n",
       "     <use xlink:href=\"#me3c8198e1d\" x=\"115.089404\" y=\"97.278609\" style=\"fill: #ff7f0e; stroke: #333333\"/>\n",
       "     <use xlink:href=\"#me3c8198e1d\" x=\"215.729017\" y=\"208.531839\" style=\"fill: #ff7f0e; stroke: #333333\"/>\n",
       "     <use xlink:href=\"#me3c8198e1d\" x=\"243.088167\" y=\"167.405338\" style=\"fill: #ff7f0e; stroke: #333333\"/>\n",
       "     <use xlink:href=\"#me3c8198e1d\" x=\"122.749842\" y=\"52.042756\" style=\"fill: #ff7f0e; stroke: #333333\"/>\n",
       "     <use xlink:href=\"#me3c8198e1d\" x=\"116.231508\" y=\"84.444307\" style=\"fill: #ff7f0e; stroke: #333333\"/>\n",
       "     <use xlink:href=\"#me3c8198e1d\" x=\"223.367101\" y=\"172.092918\" style=\"fill: #ff7f0e; stroke: #333333\"/>\n",
       "     <use xlink:href=\"#me3c8198e1d\" x=\"220.741347\" y=\"159.267698\" style=\"fill: #ff7f0e; stroke: #333333\"/>\n",
       "     <use xlink:href=\"#me3c8198e1d\" x=\"231.26916\" y=\"193.771437\" style=\"fill: #ff7f0e; stroke: #333333\"/>\n",
       "     <use xlink:href=\"#me3c8198e1d\" x=\"115.99863\" y=\"85.292224\" style=\"fill: #ff7f0e; stroke: #333333\"/>\n",
       "     <use xlink:href=\"#me3c8198e1d\" x=\"109.175072\" y=\"81.314408\" style=\"fill: #ff7f0e; stroke: #333333\"/>\n",
       "     <use xlink:href=\"#me3c8198e1d\" x=\"111.515177\" y=\"82.941753\" style=\"fill: #ff7f0e; stroke: #333333\"/>\n",
       "     <use xlink:href=\"#me3c8198e1d\" x=\"120.215199\" y=\"74.467787\" style=\"fill: #ff7f0e; stroke: #333333\"/>\n",
       "     <use xlink:href=\"#me3c8198e1d\" x=\"217.103093\" y=\"183.010124\" style=\"fill: #ff7f0e; stroke: #333333\"/>\n",
       "     <use xlink:href=\"#me3c8198e1d\" x=\"116.872297\" y=\"86.091518\" style=\"fill: #ff7f0e; stroke: #333333\"/>\n",
       "     <use xlink:href=\"#me3c8198e1d\" x=\"106.645768\" y=\"92.555144\" style=\"fill: #ff7f0e; stroke: #333333\"/>\n",
       "     <use xlink:href=\"#me3c8198e1d\" x=\"210.428\" y=\"174.512512\" style=\"fill: #ff7f0e; stroke: #333333\"/>\n",
       "     <use xlink:href=\"#me3c8198e1d\" x=\"120.746232\" y=\"76.932586\" style=\"fill: #ff7f0e; stroke: #333333\"/>\n",
       "     <use xlink:href=\"#me3c8198e1d\" x=\"113.280949\" y=\"79.169073\" style=\"fill: #ff7f0e; stroke: #333333\"/>\n",
       "     <use xlink:href=\"#me3c8198e1d\" x=\"129.8964\" y=\"104.331853\" style=\"fill: #ff7f0e; stroke: #333333\"/>\n",
       "     <use xlink:href=\"#me3c8198e1d\" x=\"116.831865\" y=\"66.707992\" style=\"fill: #ff7f0e; stroke: #333333\"/>\n",
       "     <use xlink:href=\"#me3c8198e1d\" x=\"225.354297\" y=\"185.149763\" style=\"fill: #ff7f0e; stroke: #333333\"/>\n",
       "     <use xlink:href=\"#me3c8198e1d\" x=\"227.550522\" y=\"193.066043\" style=\"fill: #ff7f0e; stroke: #333333\"/>\n",
       "     <use xlink:href=\"#me3c8198e1d\" x=\"102.546924\" y=\"63.974591\" style=\"fill: #ff7f0e; stroke: #333333\"/>\n",
       "     <use xlink:href=\"#me3c8198e1d\" x=\"240.14669\" y=\"205.7734\" style=\"fill: #ff7f0e; stroke: #333333\"/>\n",
       "     <use xlink:href=\"#me3c8198e1d\" x=\"111.406346\" y=\"78.159249\" style=\"fill: #ff7f0e; stroke: #333333\"/>\n",
       "     <use xlink:href=\"#me3c8198e1d\" x=\"207.163853\" y=\"199.610178\" style=\"fill: #ff7f0e; stroke: #333333\"/>\n",
       "     <use xlink:href=\"#me3c8198e1d\" x=\"103.044167\" y=\"87.471794\" style=\"fill: #ff7f0e; stroke: #333333\"/>\n",
       "     <use xlink:href=\"#me3c8198e1d\" x=\"110.155464\" y=\"93.096603\" style=\"fill: #ff7f0e; stroke: #333333\"/>\n",
       "     <use xlink:href=\"#me3c8198e1d\" x=\"113.757747\" y=\"82.168676\" style=\"fill: #ff7f0e; stroke: #333333\"/>\n",
       "     <use xlink:href=\"#me3c8198e1d\" x=\"215.685721\" y=\"177.164668\" style=\"fill: #ff7f0e; stroke: #333333\"/>\n",
       "     <use xlink:href=\"#me3c8198e1d\" x=\"216.872209\" y=\"181.002783\" style=\"fill: #ff7f0e; stroke: #333333\"/>\n",
       "     <use xlink:href=\"#me3c8198e1d\" x=\"104.701916\" y=\"67.756649\" style=\"fill: #ff7f0e; stroke: #333333\"/>\n",
       "     <use xlink:href=\"#me3c8198e1d\" x=\"217.467028\" y=\"190.990874\" style=\"fill: #ff7f0e; stroke: #333333\"/>\n",
       "     <use xlink:href=\"#me3c8198e1d\" x=\"126.078396\" y=\"76.977778\" style=\"fill: #ff7f0e; stroke: #333333\"/>\n",
       "     <use xlink:href=\"#me3c8198e1d\" x=\"117.98469\" y=\"72.873269\" style=\"fill: #ff7f0e; stroke: #333333\"/>\n",
       "     <use xlink:href=\"#me3c8198e1d\" x=\"117.629163\" y=\"78.112359\" style=\"fill: #ff7f0e; stroke: #333333\"/>\n",
       "     <use xlink:href=\"#me3c8198e1d\" x=\"213.205192\" y=\"175.854937\" style=\"fill: #ff7f0e; stroke: #333333\"/>\n",
       "     <use xlink:href=\"#me3c8198e1d\" x=\"214.045244\" y=\"201.27437\" style=\"fill: #ff7f0e; stroke: #333333\"/>\n",
       "     <use xlink:href=\"#me3c8198e1d\" x=\"97.727274\" y=\"79.912647\" style=\"fill: #ff7f0e; stroke: #333333\"/>\n",
       "     <use xlink:href=\"#me3c8198e1d\" x=\"113.594287\" y=\"88.370448\" style=\"fill: #ff7f0e; stroke: #333333\"/>\n",
       "     <use xlink:href=\"#me3c8198e1d\" x=\"235.01824\" y=\"171.988212\" style=\"fill: #ff7f0e; stroke: #333333\"/>\n",
       "     <use xlink:href=\"#me3c8198e1d\" x=\"116.293507\" y=\"80.415728\" style=\"fill: #ff7f0e; stroke: #333333\"/>\n",
       "     <use xlink:href=\"#me3c8198e1d\" x=\"229.670717\" y=\"181.565923\" style=\"fill: #ff7f0e; stroke: #333333\"/>\n",
       "     <use xlink:href=\"#me3c8198e1d\" x=\"210.709542\" y=\"195.086529\" style=\"fill: #ff7f0e; stroke: #333333\"/>\n",
       "     <use xlink:href=\"#me3c8198e1d\" x=\"118.503813\" y=\"85.115897\" style=\"fill: #ff7f0e; stroke: #333333\"/>\n",
       "     <use xlink:href=\"#me3c8198e1d\" x=\"217.064814\" y=\"186.092051\" style=\"fill: #ff7f0e; stroke: #333333\"/>\n",
       "     <use xlink:href=\"#me3c8198e1d\" x=\"129.849316\" y=\"63.488739\" style=\"fill: #ff7f0e; stroke: #333333\"/>\n",
       "     <use xlink:href=\"#me3c8198e1d\" x=\"216.174177\" y=\"158.450289\" style=\"fill: #ff7f0e; stroke: #333333\"/>\n",
       "     <use xlink:href=\"#me3c8198e1d\" x=\"231.384289\" y=\"168.424448\" style=\"fill: #ff7f0e; stroke: #333333\"/>\n",
       "     <use xlink:href=\"#me3c8198e1d\" x=\"124.420199\" y=\"74.281044\" style=\"fill: #ff7f0e; stroke: #333333\"/>\n",
       "     <use xlink:href=\"#me3c8198e1d\" x=\"145.712674\" y=\"86.753043\" style=\"fill: #ff7f0e; stroke: #333333\"/>\n",
       "     <use xlink:href=\"#me3c8198e1d\" x=\"114.508218\" y=\"90.77724\" style=\"fill: #ff7f0e; stroke: #333333\"/>\n",
       "     <use xlink:href=\"#me3c8198e1d\" x=\"210.304466\" y=\"189.813727\" style=\"fill: #ff7f0e; stroke: #333333\"/>\n",
       "     <use xlink:href=\"#me3c8198e1d\" x=\"123.127448\" y=\"92.93278\" style=\"fill: #ff7f0e; stroke: #333333\"/>\n",
       "     <use xlink:href=\"#me3c8198e1d\" x=\"99.290102\" y=\"77.736593\" style=\"fill: #ff7f0e; stroke: #333333\"/>\n",
       "     <use xlink:href=\"#me3c8198e1d\" x=\"101.69976\" y=\"66.28864\" style=\"fill: #ff7f0e; stroke: #333333\"/>\n",
       "     <use xlink:href=\"#me3c8198e1d\" x=\"225.758607\" y=\"202.026848\" style=\"fill: #ff7f0e; stroke: #333333\"/>\n",
       "     <use xlink:href=\"#me3c8198e1d\" x=\"116.21463\" y=\"64.560581\" style=\"fill: #ff7f0e; stroke: #333333\"/>\n",
       "     <use xlink:href=\"#me3c8198e1d\" x=\"114.708746\" y=\"76.580487\" style=\"fill: #ff7f0e; stroke: #333333\"/>\n",
       "     <use xlink:href=\"#me3c8198e1d\" x=\"213.595716\" y=\"173.999391\" style=\"fill: #ff7f0e; stroke: #333333\"/>\n",
       "     <use xlink:href=\"#me3c8198e1d\" x=\"102.236243\" y=\"75.603154\" style=\"fill: #ff7f0e; stroke: #333333\"/>\n",
       "     <use xlink:href=\"#me3c8198e1d\" x=\"101.111959\" y=\"71.721498\" style=\"fill: #ff7f0e; stroke: #333333\"/>\n",
       "     <use xlink:href=\"#me3c8198e1d\" x=\"226.118637\" y=\"198.828858\" style=\"fill: #ff7f0e; stroke: #333333\"/>\n",
       "     <use xlink:href=\"#me3c8198e1d\" x=\"223.350122\" y=\"204.732082\" style=\"fill: #ff7f0e; stroke: #333333\"/>\n",
       "     <use xlink:href=\"#me3c8198e1d\" x=\"224.195191\" y=\"159.605198\" style=\"fill: #ff7f0e; stroke: #333333\"/>\n",
       "     <use xlink:href=\"#me3c8198e1d\" x=\"127.980721\" y=\"96.239859\" style=\"fill: #ff7f0e; stroke: #333333\"/>\n",
       "     <use xlink:href=\"#me3c8198e1d\" x=\"116.238431\" y=\"68.408068\" style=\"fill: #ff7f0e; stroke: #333333\"/>\n",
       "     <use xlink:href=\"#me3c8198e1d\" x=\"105.148179\" y=\"86.083165\" style=\"fill: #ff7f0e; stroke: #333333\"/>\n",
       "     <use xlink:href=\"#me3c8198e1d\" x=\"109.167603\" y=\"77.396998\" style=\"fill: #ff7f0e; stroke: #333333\"/>\n",
       "     <use xlink:href=\"#me3c8198e1d\" x=\"247.301223\" y=\"196.354034\" style=\"fill: #ff7f0e; stroke: #333333\"/>\n",
       "     <use xlink:href=\"#me3c8198e1d\" x=\"234.268414\" y=\"189.071009\" style=\"fill: #ff7f0e; stroke: #333333\"/>\n",
       "     <use xlink:href=\"#me3c8198e1d\" x=\"228.66548\" y=\"203.195655\" style=\"fill: #ff7f0e; stroke: #333333\"/>\n",
       "     <use xlink:href=\"#me3c8198e1d\" x=\"218.536901\" y=\"203.943433\" style=\"fill: #ff7f0e; stroke: #333333\"/>\n",
       "     <use xlink:href=\"#me3c8198e1d\" x=\"109.526409\" y=\"84.989395\" style=\"fill: #ff7f0e; stroke: #333333\"/>\n",
       "     <use xlink:href=\"#me3c8198e1d\" x=\"134.469145\" y=\"77.361429\" style=\"fill: #ff7f0e; stroke: #333333\"/>\n",
       "     <use xlink:href=\"#me3c8198e1d\" x=\"241.396127\" y=\"195.599621\" style=\"fill: #ff7f0e; stroke: #333333\"/>\n",
       "     <use xlink:href=\"#me3c8198e1d\" x=\"207.143974\" y=\"183.405173\" style=\"fill: #ff7f0e; stroke: #333333\"/>\n",
       "     <use xlink:href=\"#me3c8198e1d\" x=\"231.264547\" y=\"186.305425\" style=\"fill: #ff7f0e; stroke: #333333\"/>\n",
       "     <use xlink:href=\"#me3c8198e1d\" x=\"114.083274\" y=\"82.632916\" style=\"fill: #ff7f0e; stroke: #333333\"/>\n",
       "     <use xlink:href=\"#me3c8198e1d\" x=\"221.181748\" y=\"190.527477\" style=\"fill: #ff7f0e; stroke: #333333\"/>\n",
       "    </g>\n",
       "   </g>\n",
       "   <g id=\"matplotlib.axis_1\">\n",
       "    <g id=\"xtick_1\">\n",
       "     <g id=\"line2d_1\">\n",
       "      <defs>\n",
       "       <path id=\"m1eca56820e\" d=\"M 0 0 \n",
       "L 0 3.5 \n",
       "\" style=\"stroke: #000000; stroke-width: 0.8\"/>\n",
       "      </defs>\n",
       "      <g>\n",
       "       <use xlink:href=\"#m1eca56820e\" x=\"58.523438\" y=\"244.078125\" style=\"stroke: #000000; stroke-width: 0.8\"/>\n",
       "      </g>\n",
       "     </g>\n",
       "     <g id=\"text_1\">\n",
       "      <!-- −0.5 -->\n",
       "      <g transform=\"translate(46.382031 258.676562) scale(0.1 -0.1)\">\n",
       "       <defs>\n",
       "        <path id=\"DejaVuSans-2212\" d=\"M 678 2272 \n",
       "L 4684 2272 \n",
       "L 4684 1741 \n",
       "L 678 1741 \n",
       "L 678 2272 \n",
       "z\n",
       "\" transform=\"scale(0.015625)\"/>\n",
       "        <path id=\"DejaVuSans-30\" d=\"M 2034 4250 \n",
       "Q 1547 4250 1301 3770 \n",
       "Q 1056 3291 1056 2328 \n",
       "Q 1056 1369 1301 889 \n",
       "Q 1547 409 2034 409 \n",
       "Q 2525 409 2770 889 \n",
       "Q 3016 1369 3016 2328 \n",
       "Q 3016 3291 2770 3770 \n",
       "Q 2525 4250 2034 4250 \n",
       "z\n",
       "M 2034 4750 \n",
       "Q 2819 4750 3233 4129 \n",
       "Q 3647 3509 3647 2328 \n",
       "Q 3647 1150 3233 529 \n",
       "Q 2819 -91 2034 -91 \n",
       "Q 1250 -91 836 529 \n",
       "Q 422 1150 422 2328 \n",
       "Q 422 3509 836 4129 \n",
       "Q 1250 4750 2034 4750 \n",
       "z\n",
       "\" transform=\"scale(0.015625)\"/>\n",
       "        <path id=\"DejaVuSans-2e\" d=\"M 684 794 \n",
       "L 1344 794 \n",
       "L 1344 0 \n",
       "L 684 0 \n",
       "L 684 794 \n",
       "z\n",
       "\" transform=\"scale(0.015625)\"/>\n",
       "        <path id=\"DejaVuSans-35\" d=\"M 691 4666 \n",
       "L 3169 4666 \n",
       "L 3169 4134 \n",
       "L 1269 4134 \n",
       "L 1269 2991 \n",
       "Q 1406 3038 1543 3061 \n",
       "Q 1681 3084 1819 3084 \n",
       "Q 2600 3084 3056 2656 \n",
       "Q 3513 2228 3513 1497 \n",
       "Q 3513 744 3044 326 \n",
       "Q 2575 -91 1722 -91 \n",
       "Q 1428 -91 1123 -41 \n",
       "Q 819 9 494 109 \n",
       "L 494 744 \n",
       "Q 775 591 1075 516 \n",
       "Q 1375 441 1709 441 \n",
       "Q 2250 441 2565 725 \n",
       "Q 2881 1009 2881 1497 \n",
       "Q 2881 1984 2565 2268 \n",
       "Q 2250 2553 1709 2553 \n",
       "Q 1456 2553 1204 2497 \n",
       "Q 953 2441 691 2322 \n",
       "L 691 4666 \n",
       "z\n",
       "\" transform=\"scale(0.015625)\"/>\n",
       "       </defs>\n",
       "       <use xlink:href=\"#DejaVuSans-2212\"/>\n",
       "       <use xlink:href=\"#DejaVuSans-30\" x=\"83.789062\"/>\n",
       "       <use xlink:href=\"#DejaVuSans-2e\" x=\"147.412109\"/>\n",
       "       <use xlink:href=\"#DejaVuSans-35\" x=\"179.199219\"/>\n",
       "      </g>\n",
       "     </g>\n",
       "    </g>\n",
       "    <g id=\"xtick_2\">\n",
       "     <g id=\"line2d_2\">\n",
       "      <g>\n",
       "       <use xlink:href=\"#m1eca56820e\" x=\"113.963437\" y=\"244.078125\" style=\"stroke: #000000; stroke-width: 0.8\"/>\n",
       "      </g>\n",
       "     </g>\n",
       "     <g id=\"text_2\">\n",
       "      <!-- 0.0 -->\n",
       "      <g transform=\"translate(106.011875 258.676562) scale(0.1 -0.1)\">\n",
       "       <use xlink:href=\"#DejaVuSans-30\"/>\n",
       "       <use xlink:href=\"#DejaVuSans-2e\" x=\"63.623047\"/>\n",
       "       <use xlink:href=\"#DejaVuSans-30\" x=\"95.410156\"/>\n",
       "      </g>\n",
       "     </g>\n",
       "    </g>\n",
       "    <g id=\"xtick_3\">\n",
       "     <g id=\"line2d_3\">\n",
       "      <g>\n",
       "       <use xlink:href=\"#m1eca56820e\" x=\"169.403437\" y=\"244.078125\" style=\"stroke: #000000; stroke-width: 0.8\"/>\n",
       "      </g>\n",
       "     </g>\n",
       "     <g id=\"text_3\">\n",
       "      <!-- 0.5 -->\n",
       "      <g transform=\"translate(161.451875 258.676562) scale(0.1 -0.1)\">\n",
       "       <use xlink:href=\"#DejaVuSans-30\"/>\n",
       "       <use xlink:href=\"#DejaVuSans-2e\" x=\"63.623047\"/>\n",
       "       <use xlink:href=\"#DejaVuSans-35\" x=\"95.410156\"/>\n",
       "      </g>\n",
       "     </g>\n",
       "    </g>\n",
       "    <g id=\"xtick_4\">\n",
       "     <g id=\"line2d_4\">\n",
       "      <g>\n",
       "       <use xlink:href=\"#m1eca56820e\" x=\"224.843437\" y=\"244.078125\" style=\"stroke: #000000; stroke-width: 0.8\"/>\n",
       "      </g>\n",
       "     </g>\n",
       "     <g id=\"text_4\">\n",
       "      <!-- 1.0 -->\n",
       "      <g transform=\"translate(216.891875 258.676562) scale(0.1 -0.1)\">\n",
       "       <defs>\n",
       "        <path id=\"DejaVuSans-31\" d=\"M 794 531 \n",
       "L 1825 531 \n",
       "L 1825 4091 \n",
       "L 703 3866 \n",
       "L 703 4441 \n",
       "L 1819 4666 \n",
       "L 2450 4666 \n",
       "L 2450 531 \n",
       "L 3481 531 \n",
       "L 3481 0 \n",
       "L 794 0 \n",
       "L 794 531 \n",
       "z\n",
       "\" transform=\"scale(0.015625)\"/>\n",
       "       </defs>\n",
       "       <use xlink:href=\"#DejaVuSans-31\"/>\n",
       "       <use xlink:href=\"#DejaVuSans-2e\" x=\"63.623047\"/>\n",
       "       <use xlink:href=\"#DejaVuSans-30\" x=\"95.410156\"/>\n",
       "      </g>\n",
       "     </g>\n",
       "    </g>\n",
       "    <g id=\"xtick_5\">\n",
       "     <g id=\"line2d_5\">\n",
       "      <g>\n",
       "       <use xlink:href=\"#m1eca56820e\" x=\"280.283437\" y=\"244.078125\" style=\"stroke: #000000; stroke-width: 0.8\"/>\n",
       "      </g>\n",
       "     </g>\n",
       "     <g id=\"text_5\">\n",
       "      <!-- 1.5 -->\n",
       "      <g transform=\"translate(272.331875 258.676562) scale(0.1 -0.1)\">\n",
       "       <use xlink:href=\"#DejaVuSans-31\"/>\n",
       "       <use xlink:href=\"#DejaVuSans-2e\" x=\"63.623047\"/>\n",
       "       <use xlink:href=\"#DejaVuSans-35\" x=\"95.410156\"/>\n",
       "      </g>\n",
       "     </g>\n",
       "    </g>\n",
       "    <g id=\"text_6\">\n",
       "     <!-- $x_1$ -->\n",
       "     <g transform=\"translate(164.053438 272.354687) scale(0.1 -0.1)\">\n",
       "      <defs>\n",
       "       <path id=\"DejaVuSans-Oblique-78\" d=\"M 3841 3500 \n",
       "L 2234 1784 \n",
       "L 3219 0 \n",
       "L 2559 0 \n",
       "L 1819 1388 \n",
       "L 531 0 \n",
       "L -166 0 \n",
       "L 1556 1844 \n",
       "L 641 3500 \n",
       "L 1300 3500 \n",
       "L 1972 2234 \n",
       "L 3144 3500 \n",
       "L 3841 3500 \n",
       "z\n",
       "\" transform=\"scale(0.015625)\"/>\n",
       "      </defs>\n",
       "      <use xlink:href=\"#DejaVuSans-Oblique-78\" transform=\"translate(0 0.3125)\"/>\n",
       "      <use xlink:href=\"#DejaVuSans-31\" transform=\"translate(59.179688 -16.09375) scale(0.7)\"/>\n",
       "     </g>\n",
       "    </g>\n",
       "   </g>\n",
       "   <g id=\"matplotlib.axis_2\">\n",
       "    <g id=\"ytick_1\">\n",
       "     <g id=\"line2d_6\">\n",
       "      <defs>\n",
       "       <path id=\"m901313d7f0\" d=\"M 0 0 \n",
       "L -3.5 0 \n",
       "\" style=\"stroke: #000000; stroke-width: 0.8\"/>\n",
       "      </defs>\n",
       "      <g>\n",
       "       <use xlink:href=\"#m901313d7f0\" x=\"58.523438\" y=\"244.078125\" style=\"stroke: #000000; stroke-width: 0.8\"/>\n",
       "      </g>\n",
       "     </g>\n",
       "     <g id=\"text_7\">\n",
       "      <!-- −0.50 -->\n",
       "      <g transform=\"translate(20.878125 247.877344) scale(0.1 -0.1)\">\n",
       "       <use xlink:href=\"#DejaVuSans-2212\"/>\n",
       "       <use xlink:href=\"#DejaVuSans-30\" x=\"83.789062\"/>\n",
       "       <use xlink:href=\"#DejaVuSans-2e\" x=\"147.412109\"/>\n",
       "       <use xlink:href=\"#DejaVuSans-35\" x=\"179.199219\"/>\n",
       "       <use xlink:href=\"#DejaVuSans-30\" x=\"242.822266\"/>\n",
       "      </g>\n",
       "     </g>\n",
       "    </g>\n",
       "    <g id=\"ytick_2\">\n",
       "     <g id=\"line2d_7\">\n",
       "      <g>\n",
       "       <use xlink:href=\"#m901313d7f0\" x=\"58.523438\" y=\"216.358125\" style=\"stroke: #000000; stroke-width: 0.8\"/>\n",
       "      </g>\n",
       "     </g>\n",
       "     <g id=\"text_8\">\n",
       "      <!-- −0.25 -->\n",
       "      <g transform=\"translate(20.878125 220.157344) scale(0.1 -0.1)\">\n",
       "       <defs>\n",
       "        <path id=\"DejaVuSans-32\" d=\"M 1228 531 \n",
       "L 3431 531 \n",
       "L 3431 0 \n",
       "L 469 0 \n",
       "L 469 531 \n",
       "Q 828 903 1448 1529 \n",
       "Q 2069 2156 2228 2338 \n",
       "Q 2531 2678 2651 2914 \n",
       "Q 2772 3150 2772 3378 \n",
       "Q 2772 3750 2511 3984 \n",
       "Q 2250 4219 1831 4219 \n",
       "Q 1534 4219 1204 4116 \n",
       "Q 875 4013 500 3803 \n",
       "L 500 4441 \n",
       "Q 881 4594 1212 4672 \n",
       "Q 1544 4750 1819 4750 \n",
       "Q 2544 4750 2975 4387 \n",
       "Q 3406 4025 3406 3419 \n",
       "Q 3406 3131 3298 2873 \n",
       "Q 3191 2616 2906 2266 \n",
       "Q 2828 2175 2409 1742 \n",
       "Q 1991 1309 1228 531 \n",
       "z\n",
       "\" transform=\"scale(0.015625)\"/>\n",
       "       </defs>\n",
       "       <use xlink:href=\"#DejaVuSans-2212\"/>\n",
       "       <use xlink:href=\"#DejaVuSans-30\" x=\"83.789062\"/>\n",
       "       <use xlink:href=\"#DejaVuSans-2e\" x=\"147.412109\"/>\n",
       "       <use xlink:href=\"#DejaVuSans-32\" x=\"179.199219\"/>\n",
       "       <use xlink:href=\"#DejaVuSans-35\" x=\"242.822266\"/>\n",
       "      </g>\n",
       "     </g>\n",
       "    </g>\n",
       "    <g id=\"ytick_3\">\n",
       "     <g id=\"line2d_8\">\n",
       "      <g>\n",
       "       <use xlink:href=\"#m901313d7f0\" x=\"58.523438\" y=\"188.638125\" style=\"stroke: #000000; stroke-width: 0.8\"/>\n",
       "      </g>\n",
       "     </g>\n",
       "     <g id=\"text_9\">\n",
       "      <!-- 0.00 -->\n",
       "      <g transform=\"translate(29.257812 192.437344) scale(0.1 -0.1)\">\n",
       "       <use xlink:href=\"#DejaVuSans-30\"/>\n",
       "       <use xlink:href=\"#DejaVuSans-2e\" x=\"63.623047\"/>\n",
       "       <use xlink:href=\"#DejaVuSans-30\" x=\"95.410156\"/>\n",
       "       <use xlink:href=\"#DejaVuSans-30\" x=\"159.033203\"/>\n",
       "      </g>\n",
       "     </g>\n",
       "    </g>\n",
       "    <g id=\"ytick_4\">\n",
       "     <g id=\"line2d_9\">\n",
       "      <g>\n",
       "       <use xlink:href=\"#m901313d7f0\" x=\"58.523438\" y=\"160.918125\" style=\"stroke: #000000; stroke-width: 0.8\"/>\n",
       "      </g>\n",
       "     </g>\n",
       "     <g id=\"text_10\">\n",
       "      <!-- 0.25 -->\n",
       "      <g transform=\"translate(29.257812 164.717344) scale(0.1 -0.1)\">\n",
       "       <use xlink:href=\"#DejaVuSans-30\"/>\n",
       "       <use xlink:href=\"#DejaVuSans-2e\" x=\"63.623047\"/>\n",
       "       <use xlink:href=\"#DejaVuSans-32\" x=\"95.410156\"/>\n",
       "       <use xlink:href=\"#DejaVuSans-35\" x=\"159.033203\"/>\n",
       "      </g>\n",
       "     </g>\n",
       "    </g>\n",
       "    <g id=\"ytick_5\">\n",
       "     <g id=\"line2d_10\">\n",
       "      <g>\n",
       "       <use xlink:href=\"#m901313d7f0\" x=\"58.523438\" y=\"133.198125\" style=\"stroke: #000000; stroke-width: 0.8\"/>\n",
       "      </g>\n",
       "     </g>\n",
       "     <g id=\"text_11\">\n",
       "      <!-- 0.50 -->\n",
       "      <g transform=\"translate(29.257812 136.997344) scale(0.1 -0.1)\">\n",
       "       <use xlink:href=\"#DejaVuSans-30\"/>\n",
       "       <use xlink:href=\"#DejaVuSans-2e\" x=\"63.623047\"/>\n",
       "       <use xlink:href=\"#DejaVuSans-35\" x=\"95.410156\"/>\n",
       "       <use xlink:href=\"#DejaVuSans-30\" x=\"159.033203\"/>\n",
       "      </g>\n",
       "     </g>\n",
       "    </g>\n",
       "    <g id=\"ytick_6\">\n",
       "     <g id=\"line2d_11\">\n",
       "      <g>\n",
       "       <use xlink:href=\"#m901313d7f0\" x=\"58.523438\" y=\"105.478125\" style=\"stroke: #000000; stroke-width: 0.8\"/>\n",
       "      </g>\n",
       "     </g>\n",
       "     <g id=\"text_12\">\n",
       "      <!-- 0.75 -->\n",
       "      <g transform=\"translate(29.257812 109.277344) scale(0.1 -0.1)\">\n",
       "       <defs>\n",
       "        <path id=\"DejaVuSans-37\" d=\"M 525 4666 \n",
       "L 3525 4666 \n",
       "L 3525 4397 \n",
       "L 1831 0 \n",
       "L 1172 0 \n",
       "L 2766 4134 \n",
       "L 525 4134 \n",
       "L 525 4666 \n",
       "z\n",
       "\" transform=\"scale(0.015625)\"/>\n",
       "       </defs>\n",
       "       <use xlink:href=\"#DejaVuSans-30\"/>\n",
       "       <use xlink:href=\"#DejaVuSans-2e\" x=\"63.623047\"/>\n",
       "       <use xlink:href=\"#DejaVuSans-37\" x=\"95.410156\"/>\n",
       "       <use xlink:href=\"#DejaVuSans-35\" x=\"159.033203\"/>\n",
       "      </g>\n",
       "     </g>\n",
       "    </g>\n",
       "    <g id=\"ytick_7\">\n",
       "     <g id=\"line2d_12\">\n",
       "      <g>\n",
       "       <use xlink:href=\"#m901313d7f0\" x=\"58.523438\" y=\"77.758125\" style=\"stroke: #000000; stroke-width: 0.8\"/>\n",
       "      </g>\n",
       "     </g>\n",
       "     <g id=\"text_13\">\n",
       "      <!-- 1.00 -->\n",
       "      <g transform=\"translate(29.257812 81.557344) scale(0.1 -0.1)\">\n",
       "       <use xlink:href=\"#DejaVuSans-31\"/>\n",
       "       <use xlink:href=\"#DejaVuSans-2e\" x=\"63.623047\"/>\n",
       "       <use xlink:href=\"#DejaVuSans-30\" x=\"95.410156\"/>\n",
       "       <use xlink:href=\"#DejaVuSans-30\" x=\"159.033203\"/>\n",
       "      </g>\n",
       "     </g>\n",
       "    </g>\n",
       "    <g id=\"ytick_8\">\n",
       "     <g id=\"line2d_13\">\n",
       "      <g>\n",
       "       <use xlink:href=\"#m901313d7f0\" x=\"58.523438\" y=\"50.038125\" style=\"stroke: #000000; stroke-width: 0.8\"/>\n",
       "      </g>\n",
       "     </g>\n",
       "     <g id=\"text_14\">\n",
       "      <!-- 1.25 -->\n",
       "      <g transform=\"translate(29.257812 53.837344) scale(0.1 -0.1)\">\n",
       "       <use xlink:href=\"#DejaVuSans-31\"/>\n",
       "       <use xlink:href=\"#DejaVuSans-2e\" x=\"63.623047\"/>\n",
       "       <use xlink:href=\"#DejaVuSans-32\" x=\"95.410156\"/>\n",
       "       <use xlink:href=\"#DejaVuSans-35\" x=\"159.033203\"/>\n",
       "      </g>\n",
       "     </g>\n",
       "    </g>\n",
       "    <g id=\"ytick_9\">\n",
       "     <g id=\"line2d_14\">\n",
       "      <g>\n",
       "       <use xlink:href=\"#m901313d7f0\" x=\"58.523438\" y=\"22.318125\" style=\"stroke: #000000; stroke-width: 0.8\"/>\n",
       "      </g>\n",
       "     </g>\n",
       "     <g id=\"text_15\">\n",
       "      <!-- 1.50 -->\n",
       "      <g transform=\"translate(29.257812 26.117344) scale(0.1 -0.1)\">\n",
       "       <use xlink:href=\"#DejaVuSans-31\"/>\n",
       "       <use xlink:href=\"#DejaVuSans-2e\" x=\"63.623047\"/>\n",
       "       <use xlink:href=\"#DejaVuSans-35\" x=\"95.410156\"/>\n",
       "       <use xlink:href=\"#DejaVuSans-30\" x=\"159.033203\"/>\n",
       "      </g>\n",
       "     </g>\n",
       "    </g>\n",
       "    <g id=\"text_16\">\n",
       "     <!-- $x_2$ -->\n",
       "     <g transform=\"translate(14.798437 138.548125) rotate(-90) scale(0.1 -0.1)\">\n",
       "      <use xlink:href=\"#DejaVuSans-Oblique-78\" transform=\"translate(0 0.3125)\"/>\n",
       "      <use xlink:href=\"#DejaVuSans-32\" transform=\"translate(59.179688 -16.09375) scale(0.7)\"/>\n",
       "     </g>\n",
       "    </g>\n",
       "   </g>\n",
       "   <g id=\"patch_3\">\n",
       "    <path d=\"M 58.523438 244.078125 \n",
       "L 58.523438 22.318125 \n",
       "\" style=\"fill: none; stroke: #000000; stroke-width: 0.8; stroke-linejoin: miter; stroke-linecap: square\"/>\n",
       "   </g>\n",
       "   <g id=\"patch_4\">\n",
       "    <path d=\"M 280.283437 244.078125 \n",
       "L 280.283437 22.318125 \n",
       "\" style=\"fill: none; stroke: #000000; stroke-width: 0.8; stroke-linejoin: miter; stroke-linecap: square\"/>\n",
       "   </g>\n",
       "   <g id=\"patch_5\">\n",
       "    <path d=\"M 58.523438 244.078125 \n",
       "L 280.283437 244.078125 \n",
       "\" style=\"fill: none; stroke: #000000; stroke-width: 0.8; stroke-linejoin: miter; stroke-linecap: square\"/>\n",
       "   </g>\n",
       "   <g id=\"patch_6\">\n",
       "    <path d=\"M 58.523438 22.318125 \n",
       "L 280.283437 22.318125 \n",
       "\" style=\"fill: none; stroke: #000000; stroke-width: 0.8; stroke-linejoin: miter; stroke-linecap: square\"/>\n",
       "   </g>\n",
       "   <g id=\"text_17\">\n",
       "    <!-- Dataset samples -->\n",
       "    <g transform=\"translate(119.060625 16.318125) scale(0.12 -0.12)\">\n",
       "     <defs>\n",
       "      <path id=\"DejaVuSans-44\" d=\"M 1259 4147 \n",
       "L 1259 519 \n",
       "L 2022 519 \n",
       "Q 2988 519 3436 956 \n",
       "Q 3884 1394 3884 2338 \n",
       "Q 3884 3275 3436 3711 \n",
       "Q 2988 4147 2022 4147 \n",
       "L 1259 4147 \n",
       "z\n",
       "M 628 4666 \n",
       "L 1925 4666 \n",
       "Q 3281 4666 3915 4102 \n",
       "Q 4550 3538 4550 2338 \n",
       "Q 4550 1131 3912 565 \n",
       "Q 3275 0 1925 0 \n",
       "L 628 0 \n",
       "L 628 4666 \n",
       "z\n",
       "\" transform=\"scale(0.015625)\"/>\n",
       "      <path id=\"DejaVuSans-61\" d=\"M 2194 1759 \n",
       "Q 1497 1759 1228 1600 \n",
       "Q 959 1441 959 1056 \n",
       "Q 959 750 1161 570 \n",
       "Q 1363 391 1709 391 \n",
       "Q 2188 391 2477 730 \n",
       "Q 2766 1069 2766 1631 \n",
       "L 2766 1759 \n",
       "L 2194 1759 \n",
       "z\n",
       "M 3341 1997 \n",
       "L 3341 0 \n",
       "L 2766 0 \n",
       "L 2766 531 \n",
       "Q 2569 213 2275 61 \n",
       "Q 1981 -91 1556 -91 \n",
       "Q 1019 -91 701 211 \n",
       "Q 384 513 384 1019 \n",
       "Q 384 1609 779 1909 \n",
       "Q 1175 2209 1959 2209 \n",
       "L 2766 2209 \n",
       "L 2766 2266 \n",
       "Q 2766 2663 2505 2880 \n",
       "Q 2244 3097 1772 3097 \n",
       "Q 1472 3097 1187 3025 \n",
       "Q 903 2953 641 2809 \n",
       "L 641 3341 \n",
       "Q 956 3463 1253 3523 \n",
       "Q 1550 3584 1831 3584 \n",
       "Q 2591 3584 2966 3190 \n",
       "Q 3341 2797 3341 1997 \n",
       "z\n",
       "\" transform=\"scale(0.015625)\"/>\n",
       "      <path id=\"DejaVuSans-74\" d=\"M 1172 4494 \n",
       "L 1172 3500 \n",
       "L 2356 3500 \n",
       "L 2356 3053 \n",
       "L 1172 3053 \n",
       "L 1172 1153 \n",
       "Q 1172 725 1289 603 \n",
       "Q 1406 481 1766 481 \n",
       "L 2356 481 \n",
       "L 2356 0 \n",
       "L 1766 0 \n",
       "Q 1100 0 847 248 \n",
       "Q 594 497 594 1153 \n",
       "L 594 3053 \n",
       "L 172 3053 \n",
       "L 172 3500 \n",
       "L 594 3500 \n",
       "L 594 4494 \n",
       "L 1172 4494 \n",
       "z\n",
       "\" transform=\"scale(0.015625)\"/>\n",
       "      <path id=\"DejaVuSans-73\" d=\"M 2834 3397 \n",
       "L 2834 2853 \n",
       "Q 2591 2978 2328 3040 \n",
       "Q 2066 3103 1784 3103 \n",
       "Q 1356 3103 1142 2972 \n",
       "Q 928 2841 928 2578 \n",
       "Q 928 2378 1081 2264 \n",
       "Q 1234 2150 1697 2047 \n",
       "L 1894 2003 \n",
       "Q 2506 1872 2764 1633 \n",
       "Q 3022 1394 3022 966 \n",
       "Q 3022 478 2636 193 \n",
       "Q 2250 -91 1575 -91 \n",
       "Q 1294 -91 989 -36 \n",
       "Q 684 19 347 128 \n",
       "L 347 722 \n",
       "Q 666 556 975 473 \n",
       "Q 1284 391 1588 391 \n",
       "Q 1994 391 2212 530 \n",
       "Q 2431 669 2431 922 \n",
       "Q 2431 1156 2273 1281 \n",
       "Q 2116 1406 1581 1522 \n",
       "L 1381 1569 \n",
       "Q 847 1681 609 1914 \n",
       "Q 372 2147 372 2553 \n",
       "Q 372 3047 722 3315 \n",
       "Q 1072 3584 1716 3584 \n",
       "Q 2034 3584 2315 3537 \n",
       "Q 2597 3491 2834 3397 \n",
       "z\n",
       "\" transform=\"scale(0.015625)\"/>\n",
       "      <path id=\"DejaVuSans-65\" d=\"M 3597 1894 \n",
       "L 3597 1613 \n",
       "L 953 1613 \n",
       "Q 991 1019 1311 708 \n",
       "Q 1631 397 2203 397 \n",
       "Q 2534 397 2845 478 \n",
       "Q 3156 559 3463 722 \n",
       "L 3463 178 \n",
       "Q 3153 47 2828 -22 \n",
       "Q 2503 -91 2169 -91 \n",
       "Q 1331 -91 842 396 \n",
       "Q 353 884 353 1716 \n",
       "Q 353 2575 817 3079 \n",
       "Q 1281 3584 2069 3584 \n",
       "Q 2775 3584 3186 3129 \n",
       "Q 3597 2675 3597 1894 \n",
       "z\n",
       "M 3022 2063 \n",
       "Q 3016 2534 2758 2815 \n",
       "Q 2500 3097 2075 3097 \n",
       "Q 1594 3097 1305 2825 \n",
       "Q 1016 2553 972 2059 \n",
       "L 3022 2063 \n",
       "z\n",
       "\" transform=\"scale(0.015625)\"/>\n",
       "      <path id=\"DejaVuSans-20\" transform=\"scale(0.015625)\"/>\n",
       "      <path id=\"DejaVuSans-6d\" d=\"M 3328 2828 \n",
       "Q 3544 3216 3844 3400 \n",
       "Q 4144 3584 4550 3584 \n",
       "Q 5097 3584 5394 3201 \n",
       "Q 5691 2819 5691 2113 \n",
       "L 5691 0 \n",
       "L 5113 0 \n",
       "L 5113 2094 \n",
       "Q 5113 2597 4934 2840 \n",
       "Q 4756 3084 4391 3084 \n",
       "Q 3944 3084 3684 2787 \n",
       "Q 3425 2491 3425 1978 \n",
       "L 3425 0 \n",
       "L 2847 0 \n",
       "L 2847 2094 \n",
       "Q 2847 2600 2669 2842 \n",
       "Q 2491 3084 2119 3084 \n",
       "Q 1678 3084 1418 2786 \n",
       "Q 1159 2488 1159 1978 \n",
       "L 1159 0 \n",
       "L 581 0 \n",
       "L 581 3500 \n",
       "L 1159 3500 \n",
       "L 1159 2956 \n",
       "Q 1356 3278 1631 3431 \n",
       "Q 1906 3584 2284 3584 \n",
       "Q 2666 3584 2933 3390 \n",
       "Q 3200 3197 3328 2828 \n",
       "z\n",
       "\" transform=\"scale(0.015625)\"/>\n",
       "      <path id=\"DejaVuSans-70\" d=\"M 1159 525 \n",
       "L 1159 -1331 \n",
       "L 581 -1331 \n",
       "L 581 3500 \n",
       "L 1159 3500 \n",
       "L 1159 2969 \n",
       "Q 1341 3281 1617 3432 \n",
       "Q 1894 3584 2278 3584 \n",
       "Q 2916 3584 3314 3078 \n",
       "Q 3713 2572 3713 1747 \n",
       "Q 3713 922 3314 415 \n",
       "Q 2916 -91 2278 -91 \n",
       "Q 1894 -91 1617 61 \n",
       "Q 1341 213 1159 525 \n",
       "z\n",
       "M 3116 1747 \n",
       "Q 3116 2381 2855 2742 \n",
       "Q 2594 3103 2138 3103 \n",
       "Q 1681 3103 1420 2742 \n",
       "Q 1159 2381 1159 1747 \n",
       "Q 1159 1113 1420 752 \n",
       "Q 1681 391 2138 391 \n",
       "Q 2594 391 2855 752 \n",
       "Q 3116 1113 3116 1747 \n",
       "z\n",
       "\" transform=\"scale(0.015625)\"/>\n",
       "      <path id=\"DejaVuSans-6c\" d=\"M 603 4863 \n",
       "L 1178 4863 \n",
       "L 1178 0 \n",
       "L 603 0 \n",
       "L 603 4863 \n",
       "z\n",
       "\" transform=\"scale(0.015625)\"/>\n",
       "     </defs>\n",
       "     <use xlink:href=\"#DejaVuSans-44\"/>\n",
       "     <use xlink:href=\"#DejaVuSans-61\" x=\"77.001953\"/>\n",
       "     <use xlink:href=\"#DejaVuSans-74\" x=\"138.28125\"/>\n",
       "     <use xlink:href=\"#DejaVuSans-61\" x=\"177.490234\"/>\n",
       "     <use xlink:href=\"#DejaVuSans-73\" x=\"238.769531\"/>\n",
       "     <use xlink:href=\"#DejaVuSans-65\" x=\"290.869141\"/>\n",
       "     <use xlink:href=\"#DejaVuSans-74\" x=\"352.392578\"/>\n",
       "     <use xlink:href=\"#DejaVuSans-20\" x=\"391.601562\"/>\n",
       "     <use xlink:href=\"#DejaVuSans-73\" x=\"423.388672\"/>\n",
       "     <use xlink:href=\"#DejaVuSans-61\" x=\"475.488281\"/>\n",
       "     <use xlink:href=\"#DejaVuSans-6d\" x=\"536.767578\"/>\n",
       "     <use xlink:href=\"#DejaVuSans-70\" x=\"634.179688\"/>\n",
       "     <use xlink:href=\"#DejaVuSans-6c\" x=\"697.65625\"/>\n",
       "     <use xlink:href=\"#DejaVuSans-65\" x=\"725.439453\"/>\n",
       "     <use xlink:href=\"#DejaVuSans-73\" x=\"786.962891\"/>\n",
       "    </g>\n",
       "   </g>\n",
       "   <g id=\"legend_1\">\n",
       "    <g id=\"patch_7\">\n",
       "     <path d=\"M 205.435 59.674375 \n",
       "L 273.283437 59.674375 \n",
       "Q 275.283437 59.674375 275.283437 57.674375 \n",
       "L 275.283437 29.318125 \n",
       "Q 275.283437 27.318125 273.283437 27.318125 \n",
       "L 205.435 27.318125 \n",
       "Q 203.435 27.318125 203.435 29.318125 \n",
       "L 203.435 57.674375 \n",
       "Q 203.435 59.674375 205.435 59.674375 \n",
       "z\n",
       "\" style=\"fill: #ffffff; opacity: 0.8; stroke: #cccccc; stroke-linejoin: miter\"/>\n",
       "    </g>\n",
       "    <g id=\"PathCollection_3\">\n",
       "     <g>\n",
       "      <use xlink:href=\"#m7181927add\" x=\"217.435\" y=\"36.291562\" style=\"fill: #1f77b4; stroke: #333333\"/>\n",
       "     </g>\n",
       "    </g>\n",
       "    <g id=\"text_18\">\n",
       "     <!-- Class 0 -->\n",
       "     <g transform=\"translate(235.435 38.916562) scale(0.1 -0.1)\">\n",
       "      <defs>\n",
       "       <path id=\"DejaVuSans-43\" d=\"M 4122 4306 \n",
       "L 4122 3641 \n",
       "Q 3803 3938 3442 4084 \n",
       "Q 3081 4231 2675 4231 \n",
       "Q 1875 4231 1450 3742 \n",
       "Q 1025 3253 1025 2328 \n",
       "Q 1025 1406 1450 917 \n",
       "Q 1875 428 2675 428 \n",
       "Q 3081 428 3442 575 \n",
       "Q 3803 722 4122 1019 \n",
       "L 4122 359 \n",
       "Q 3791 134 3420 21 \n",
       "Q 3050 -91 2638 -91 \n",
       "Q 1578 -91 968 557 \n",
       "Q 359 1206 359 2328 \n",
       "Q 359 3453 968 4101 \n",
       "Q 1578 4750 2638 4750 \n",
       "Q 3056 4750 3426 4639 \n",
       "Q 3797 4528 4122 4306 \n",
       "z\n",
       "\" transform=\"scale(0.015625)\"/>\n",
       "      </defs>\n",
       "      <use xlink:href=\"#DejaVuSans-43\"/>\n",
       "      <use xlink:href=\"#DejaVuSans-6c\" x=\"69.824219\"/>\n",
       "      <use xlink:href=\"#DejaVuSans-61\" x=\"97.607422\"/>\n",
       "      <use xlink:href=\"#DejaVuSans-73\" x=\"158.886719\"/>\n",
       "      <use xlink:href=\"#DejaVuSans-73\" x=\"210.986328\"/>\n",
       "      <use xlink:href=\"#DejaVuSans-20\" x=\"263.085938\"/>\n",
       "      <use xlink:href=\"#DejaVuSans-30\" x=\"294.873047\"/>\n",
       "     </g>\n",
       "    </g>\n",
       "    <g id=\"PathCollection_4\">\n",
       "     <g>\n",
       "      <use xlink:href=\"#me3c8198e1d\" x=\"217.435\" y=\"50.969687\" style=\"fill: #ff7f0e; stroke: #333333\"/>\n",
       "     </g>\n",
       "    </g>\n",
       "    <g id=\"text_19\">\n",
       "     <!-- Class 1 -->\n",
       "     <g transform=\"translate(235.435 53.594687) scale(0.1 -0.1)\">\n",
       "      <use xlink:href=\"#DejaVuSans-43\"/>\n",
       "      <use xlink:href=\"#DejaVuSans-6c\" x=\"69.824219\"/>\n",
       "      <use xlink:href=\"#DejaVuSans-61\" x=\"97.607422\"/>\n",
       "      <use xlink:href=\"#DejaVuSans-73\" x=\"158.886719\"/>\n",
       "      <use xlink:href=\"#DejaVuSans-73\" x=\"210.986328\"/>\n",
       "      <use xlink:href=\"#DejaVuSans-20\" x=\"263.085938\"/>\n",
       "      <use xlink:href=\"#DejaVuSans-31\" x=\"294.873047\"/>\n",
       "     </g>\n",
       "    </g>\n",
       "   </g>\n",
       "  </g>\n",
       " </g>\n",
       " <defs>\n",
       "  <clipPath id=\"p2518e6a4c4\">\n",
       "   <rect x=\"58.523438\" y=\"22.318125\" width=\"221.76\" height=\"221.76\"/>\n",
       "  </clipPath>\n",
       " </defs>\n",
       "</svg>\n"
      ],
      "text/plain": [
       "<Figure size 400x400 with 1 Axes>"
      ]
     },
     "metadata": {},
     "output_type": "display_data"
    }
   ],
   "source": [
    "@torch.no_grad()  # Decorator, same effect as \"with torch.no_grad(): ...\" over the whole function.\n",
    "def visualize_classification(model, data, label):\n",
    "    if isinstance(data, torch.Tensor):\n",
    "        data = data.cpu().numpy()\n",
    "    if isinstance(label, torch.Tensor):\n",
    "        label = label.cpu().numpy()\n",
    "    data_0 = data[label == 0]\n",
    "    data_1 = data[label == 1]\n",
    "\n",
    "    plt.figure(figsize=(4, 4))\n",
    "    plt.scatter(data_0[:, 0], data_0[:, 1], edgecolor=\"#333\", label=\"Class 0\")\n",
    "    plt.scatter(data_1[:, 0], data_1[:, 1], edgecolor=\"#333\", label=\"Class 1\")\n",
    "    plt.title(\"Dataset samples\")\n",
    "    plt.ylabel(r\"$x_2$\")\n",
    "    plt.xlabel(r\"$x_1$\")\n",
    "    plt.legend()\n",
    "\n",
    "    # Let's make use of a lot of operations we have learned above\n",
    "    model.to(device)\n",
    "    c0 = torch.Tensor(to_rgba(\"C0\")).to(device)\n",
    "    c1 = torch.Tensor(to_rgba(\"C1\")).to(device)\n",
    "    x1 = torch.arange(-0.5, 1.5, step=0.01, device=device)\n",
    "    x2 = torch.arange(-0.5, 1.5, step=0.01, device=device)\n",
    "    xx1, xx2 = torch.meshgrid(x1, x2)  # Meshgrid function as in numpy\n",
    "    model_inputs = torch.stack([xx1, xx2], dim=-1)\n",
    "    preds = model(model_inputs)\n",
    "    preds = torch.sigmoid(preds)\n",
    "    # Specifying \"None\" in a dimension creates a new one\n",
    "    output_image = (1 - preds) * c0[None, None] + preds * c1[None, None]\n",
    "    output_image = (\n",
    "        output_image.cpu().numpy()\n",
    "    )  # Convert to numpy array. This only works for tensors on CPU, hence first push to CPU\n",
    "    plt.imshow(output_image, origin=\"lower\", extent=(-0.5, 1.5, -0.5, 1.5))\n",
    "    plt.grid(False)\n",
    "\n",
    "\n",
    "visualize_classification(model, dataset.data, dataset.label)\n",
    "plt.show()"
   ]
  }
 ],
 "metadata": {
  "kernelspec": {
   "display_name": "ENV_AI",
   "language": "python",
   "name": "python3"
  },
  "language_info": {
   "codemirror_mode": {
    "name": "ipython",
    "version": 3
   },
   "file_extension": ".py",
   "mimetype": "text/x-python",
   "name": "python",
   "nbconvert_exporter": "python",
   "pygments_lexer": "ipython3",
   "version": "3.11.7"
  }
 },
 "nbformat": 4,
 "nbformat_minor": 2
}
